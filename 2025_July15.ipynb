{
 "cells": [
  {
   "cell_type": "markdown",
   "id": "1fa7222f",
   "metadata": {},
   "source": [
    "## Python For Developers - Day 2\n",
    "\n",
    "#### Advanced OOP Features and Design Patterns"
   ]
  },
  {
   "cell_type": "code",
   "execution_count": 2,
   "id": "87937182",
   "metadata": {},
   "outputs": [],
   "source": [
    "class Person:\n",
    "    species = \"Homo Sapiens\"\n",
    "    count = 0\n",
    "\n",
    "    def __init__(self, name=\"guest\"):\n",
    "        self.name = name\n",
    "\n",
    "p1 = Person(\"john\")\n",
    "p2 = Person(\"claire\")\n",
    "\n",
    "p3 = Person()"
   ]
  },
  {
   "cell_type": "code",
   "execution_count": 5,
   "id": "b93a50ef",
   "metadata": {},
   "outputs": [
    {
     "name": "stdout",
     "output_type": "stream",
     "text": [
      "John says 'Welcome to Mumbai!'\n"
     ]
    },
    {
     "ename": "TypeError",
     "evalue": "Person.greet() missing 1 required positional argument: 'place'",
     "output_type": "error",
     "traceback": [
      "\u001b[31m---------------------------------------------------------------------------\u001b[39m",
      "\u001b[31mTypeError\u001b[39m                                 Traceback (most recent call last)",
      "\u001b[36mCell\u001b[39m\u001b[36m \u001b[39m\u001b[32mIn[5]\u001b[39m\u001b[32m, line 13\u001b[39m\n\u001b[32m     11\u001b[39m p = Person(\u001b[33m\"\u001b[39m\u001b[33mJohn\u001b[39m\u001b[33m\"\u001b[39m)\n\u001b[32m     12\u001b[39m p.greet(\u001b[33m\"\u001b[39m\u001b[33mMumbai\u001b[39m\u001b[33m\"\u001b[39m)\n\u001b[32m---> \u001b[39m\u001b[32m13\u001b[39m \u001b[43mp\u001b[49m\u001b[43m.\u001b[49m\u001b[43mgreet\u001b[49m\u001b[43m(\u001b[49m\u001b[43m)\u001b[49m\n",
      "\u001b[31mTypeError\u001b[39m: Person.greet() missing 1 required positional argument: 'place'"
     ]
    }
   ],
   "source": [
    "class Person:\n",
    "    def __init__(self, name):\n",
    "        self.name = name\n",
    "\n",
    "    def greet(self):\n",
    "        print(f\"{self.name} says 'Hi'\")\n",
    "\n",
    "    def greet(self, place):\n",
    "        print(f\"{self.name} says 'Welcome to {place}!'\")\n",
    "\n",
    "p = Person(\"John\")\n",
    "p.greet(\"Mumbai\")\n",
    "p.greet()"
   ]
  },
  {
   "cell_type": "code",
   "execution_count": 12,
   "id": "a1973581",
   "metadata": {},
   "outputs": [
    {
     "name": "stdout",
     "output_type": "stream",
     "text": [
      "John says 'Welcome to Mumbai!'\n",
      "John says 'Hi!\n"
     ]
    }
   ],
   "source": [
    "class Person:\n",
    "    def __init__(self, name):\n",
    "        self.name = name\n",
    "\n",
    "    def greet(self, place=None):\n",
    "        if place is None:\n",
    "            print(f\"{self.name} says 'Hi!\")\n",
    "        else:\n",
    "            print(f\"{self.name} says 'Welcome to {place}!'\")\n",
    "\n",
    "p = Person(\"John\")\n",
    "p.greet(\"Mumbai\")\n",
    "p.greet()"
   ]
  },
  {
   "cell_type": "code",
   "execution_count": 7,
   "id": "5b44d6b9",
   "metadata": {},
   "outputs": [
    {
     "name": "stdout",
     "output_type": "stream",
     "text": [
      "100\n",
      "Hello world\n"
     ]
    }
   ],
   "source": [
    "a = 100\n",
    "print(a)\n",
    "a = \"Hello world\"\n",
    "print(a)"
   ]
  },
  {
   "cell_type": "code",
   "execution_count": 11,
   "id": "1b1a325a",
   "metadata": {},
   "outputs": [
    {
     "name": "stdout",
     "output_type": "stream",
     "text": [
      "Hello John\n"
     ]
    }
   ],
   "source": [
    "def greet():\n",
    "    print(\"greetings\")\n",
    "\n",
    "def greet(u):\n",
    "    print(\"Hello\", u)\n",
    "\n",
    "greet(\"John\")"
   ]
  },
  {
   "cell_type": "markdown",
   "id": "d2b1d79a",
   "metadata": {},
   "source": [
    "### Instance methods vs Class methods\n",
    "\n",
    "Instance methods are methods that we invoke on instances of classes. \n",
    "These methods can access both instance attributes and class attributes\n",
    "\n",
    "Class methods however, are methods that we can invoke on both classes and instances.\n",
    "These methods can only access class attributes"
   ]
  },
  {
   "cell_type": "code",
   "execution_count": 16,
   "id": "c2dbcdae",
   "metadata": {},
   "outputs": [
    {
     "name": "stdout",
     "output_type": "stream",
     "text": [
      "red red\n",
      "Color is red\n",
      "red green\n"
     ]
    }
   ],
   "source": [
    "class Car:\n",
    "    color = \"red\"\n",
    "\n",
    "    def show_color(self):\n",
    "        print(\"Color is\", self.color)\n",
    "\n",
    "    def change_color(self, new_color):\n",
    "        self.color = new_color\n",
    "\n",
    "c = Car()\n",
    "print(Car.color, c.color)\n",
    "c.show_color()\n",
    "c.change_color(\"green\")\n",
    "print(Car.color, c.color)"
   ]
  },
  {
   "cell_type": "code",
   "execution_count": null,
   "id": "6f9c9eb2",
   "metadata": {},
   "outputs": [
    {
     "name": "stdout",
     "output_type": "stream",
     "text": [
      "red red\n",
      "Color is red\n",
      "Color is green\n",
      "green green\n"
     ]
    }
   ],
   "source": [
    "class Car:\n",
    "    color = \"red\"\n",
    "\n",
    "    def show_color(self):\n",
    "        print(\"Color is\", self.color)\n",
    "\n",
    "    def change_color(self, new_color):\n",
    "        Car.color = new_color\n",
    "\n",
    "c = Car()\n",
    "print(Car.color, c.color)\n",
    "c.show_color()\n",
    "c.change_color(\"green\")\n",
    "c.show_color()\n",
    "print(Car.color, c.color)"
   ]
  },
  {
   "cell_type": "code",
   "execution_count": 19,
   "id": "6f2b0f79",
   "metadata": {},
   "outputs": [
    {
     "name": "stdout",
     "output_type": "stream",
     "text": [
      "red red\n",
      "Color is red\n",
      "Color is green\n",
      "green green\n"
     ]
    }
   ],
   "source": [
    "class Car:\n",
    "    color = \"red\"\n",
    "\n",
    "    def show_color(self):\n",
    "        print(\"Color is\", self.color)\n",
    "\n",
    "    @classmethod\n",
    "    def change_color(cls, new_color):\n",
    "        cls.color = new_color\n",
    "\n",
    "c = Car()\n",
    "print(Car.color, c.color)\n",
    "c.show_color()\n",
    "c.change_color(\"green\")\n",
    "c.show_color()\n",
    "print(Car.color, c.color)"
   ]
  },
  {
   "cell_type": "code",
   "execution_count": 25,
   "id": "1d70c402",
   "metadata": {},
   "outputs": [
    {
     "name": "stdout",
     "output_type": "stream",
     "text": [
      "<__main__.Car object at 0x108c090a0>\n",
      "s = <__main__.Car object at 0x108c090a0>\n",
      "s = <class '__main__.Car'>\n",
      "<class '__main__.Car'>\n",
      "s = <class '__main__.Car'>\n"
     ]
    },
    {
     "ename": "TypeError",
     "evalue": "Car.drive() missing 1 required positional argument: 's'",
     "output_type": "error",
     "traceback": [
      "\u001b[31m---------------------------------------------------------------------------\u001b[39m",
      "\u001b[31mTypeError\u001b[39m                                 Traceback (most recent call last)",
      "\u001b[36mCell\u001b[39m\u001b[36m \u001b[39m\u001b[32mIn[25]\u001b[39m\u001b[32m, line 16\u001b[39m\n\u001b[32m     13\u001b[39m \u001b[38;5;28mprint\u001b[39m(Car)\n\u001b[32m     15\u001b[39m Car.drive2()\n\u001b[32m---> \u001b[39m\u001b[32m16\u001b[39m \u001b[43mCar\u001b[49m\u001b[43m.\u001b[49m\u001b[43mdrive\u001b[49m\u001b[43m(\u001b[49m\u001b[43m)\u001b[49m\n",
      "\u001b[31mTypeError\u001b[39m: Car.drive() missing 1 required positional argument: 's'"
     ]
    }
   ],
   "source": [
    "class Car:\n",
    "    def drive(s):\n",
    "        print(\"s =\", s)\n",
    "\n",
    "    @classmethod\n",
    "    def drive2(s):\n",
    "        print(\"s =\", s)\n",
    "\n",
    "c = Car()\n",
    "print(c)\n",
    "c.drive()\n",
    "c.drive2()\n",
    "print(Car)\n",
    "\n",
    "Car.drive2()\n",
    "Car.drive()"
   ]
  },
  {
   "cell_type": "code",
   "execution_count": 30,
   "id": "e50ade60",
   "metadata": {},
   "outputs": [
    {
     "name": "stdout",
     "output_type": "stream",
     "text": [
      "Created a new car object\n",
      "Created a new car object\n",
      "Created a new car object\n"
     ]
    },
    {
     "data": {
      "text/plain": [
       "3"
      ]
     },
     "execution_count": 30,
     "metadata": {},
     "output_type": "execute_result"
    }
   ],
   "source": [
    "class Car:\n",
    "    count = 0\n",
    "\n",
    "    @classmethod\n",
    "    def inc_count(cls):\n",
    "        cls.count += 1 \n",
    "\n",
    "    def __init__(self):\n",
    "        self.inc_count()\n",
    "        print(\"Created a new car object\")\n",
    "\n",
    "c1 = Car()\n",
    "c2 = Car()\n",
    "c3 = Car()\n",
    "\n",
    "Car.count\n"
   ]
  },
  {
   "cell_type": "code",
   "execution_count": 33,
   "id": "4b42fe6a",
   "metadata": {},
   "outputs": [
    {
     "name": "stdout",
     "output_type": "stream",
     "text": [
      "15 7 2025\n",
      "15 7 2025\n",
      "15 7 2025\n"
     ]
    }
   ],
   "source": [
    "class Date:\n",
    "    def __init__(self, day, month, year):\n",
    "        self.day = day\n",
    "        self.month = month\n",
    "        self.year = year\n",
    "    \n",
    "    @classmethod\n",
    "    def from_string(cls, date_string):\n",
    "        \"\"\"Alternative constructor \n",
    "           from string YYYY-MM-DD\"\"\"\n",
    "        year, month, day = \\\n",
    "           map(int, date_string.split('-'))\n",
    "        return cls(day, month, year)\n",
    "    \n",
    "    @classmethod\n",
    "    def today(cls):\n",
    "        \"\"\"Factory method for current date\"\"\"\n",
    "        import datetime\n",
    "        now = datetime.datetime.now()\n",
    "        return cls(now.day, now.month, now.year)\n",
    "    \n",
    "# Using class methods\n",
    "\n",
    "date1 = Date(15, 7, 2025)\n",
    "print(date1.day, date1.month, date1.year)\n",
    "\n",
    "date2 = Date.from_string(\"2025-07-15\")\n",
    "print(date2.day, date2.month, date2.year)\n",
    "\n",
    "date3 = Date.today()\n",
    "print(date3.day, date3.month, date3.year)\n",
    "\n"
   ]
  },
  {
   "cell_type": "code",
   "execution_count": 36,
   "id": "15c8880c",
   "metadata": {},
   "outputs": [
    {
     "data": {
      "text/plain": [
       "4"
      ]
     },
     "execution_count": 36,
     "metadata": {},
     "output_type": "execute_result"
    }
   ],
   "source": [
    "class MathUtils:\n",
    "\n",
    "    @staticmethod\n",
    "    def square(x):\n",
    "        return x*x\n",
    "    \n",
    "MathUtils.square(2)\n",
    "\n",
    "m = MathUtils()\n",
    "m.square(2)"
   ]
  },
  {
   "cell_type": "markdown",
   "id": "e7f440df",
   "metadata": {},
   "source": [
    "### Functions can be broadly classified as:\n",
    "  1. \"Pure\" Functions\n",
    "  2. Functions with \"side-effects\""
   ]
  },
  {
   "cell_type": "code",
   "execution_count": null,
   "id": "fd67778a",
   "metadata": {},
   "outputs": [
    {
     "data": {
      "text/plain": [
       "6084"
      ]
     },
     "execution_count": 37,
     "metadata": {},
     "output_type": "execute_result"
    }
   ],
   "source": [
    "def square(x):  # This is an example of a pure function\n",
    "    return x*x\n",
    "\n",
    "# Pure functions do not modify any state outside their local-scope. They do not \n",
    "# carry-forward states across calls.\n",
    "\n",
    "square(2)\n",
    "square(3)\n",
    "square(78)"
   ]
  },
  {
   "cell_type": "code",
   "execution_count": null,
   "id": "b7fb5979",
   "metadata": {},
   "outputs": [
    {
     "data": {
      "text/plain": [
       "[4, 16, 289]"
      ]
     },
     "execution_count": 38,
     "metadata": {},
     "output_type": "execute_result"
    }
   ],
   "source": [
    "squares = []\n",
    "\n",
    "def square(x):  # An example of a function with side-effects\n",
    "    squares.append(x*x)\n",
    "    return x*x\n",
    "\n",
    "square(2)\n",
    "square(4)\n",
    "square(17)\n",
    "squares"
   ]
  },
  {
   "cell_type": "code",
   "execution_count": 40,
   "id": "ab8c805d",
   "metadata": {},
   "outputs": [
    {
     "name": "stdout",
     "output_type": "stream",
     "text": [
      "data=[3, 6, 1, 8], r=[9, 36, 1, 64]\n",
      "data=[9, 36, 1, 64]\n"
     ]
    }
   ],
   "source": [
    "def square_list(nums): # Another example of a \"pure\" function\n",
    "    result = []\n",
    "    for v in nums:\n",
    "        result.append(v*v)\n",
    "    return result\n",
    "\n",
    "def square_list2(nums): # Another example of function with side-effects\n",
    "    for i, v in enumerate(nums):\n",
    "        nums[i] = v*v\n",
    "\n",
    "data = [3, 6, 1, 8]\n",
    "r = square_list(data)  # An example of a 'map' operation\n",
    "print(f\"{data=}, {r=}\")\n",
    "\n",
    "square_list2(data)\n",
    "print(f\"{data=}\")"
   ]
  },
  {
   "cell_type": "code",
   "execution_count": 44,
   "id": "84d1c607",
   "metadata": {},
   "outputs": [
    {
     "name": "stdout",
     "output_type": "stream",
     "text": [
      "Bought milk for the price of 45\n",
      "Bought stationery for the price of 2000\n",
      "balance=7955, inventory={'milk': 45, 'stationery': 2000}\n",
      "Sold milk for price of 50\n",
      "Sold stationery for price of 4000\n",
      "balance=12005, inventory={'milk': 45, 'stationery': 2000}\n"
     ]
    }
   ],
   "source": [
    "inventory = {}\n",
    "balance = 10000\n",
    "\n",
    "def buy(item, price):\n",
    "    global balance\n",
    "    if price < balance:\n",
    "        balance -= price\n",
    "    else:\n",
    "        raise ValueError(f\"Low balance: {balance=}, {price=}\")\n",
    "    inventory[item] = price\n",
    "    print(f\"Bought {item} for the price of {price}\")\n",
    "\n",
    "def sell(item, price):\n",
    "    global balance\n",
    "    if item not in inventory:\n",
    "        raise ValueError(f\"Item {item} not in inventory\")\n",
    "    else:\n",
    "        balance += price\n",
    "        print(f\"Sold {item} for price of {price}\")\n",
    "\n",
    "buy(\"milk\", 45)\n",
    "buy(\"stationery\", 2000)\n",
    "print(f\"{balance=}, {inventory=}\")\n",
    "\n",
    "sell(\"milk\", 50)\n",
    "sell(\"stationery\", 4000)\n",
    "print(f\"{balance=}, {inventory=}\")\n"
   ]
  },
  {
   "cell_type": "code",
   "execution_count": 45,
   "id": "1cdfaf9c",
   "metadata": {},
   "outputs": [
    {
     "name": "stdout",
     "output_type": "stream",
     "text": [
      "Bought milk for the price of 45\n",
      "Bought stationery for the price of 2000\n",
      "Balance: 7955, Inventory: {'milk': 45, 'stationery': 2000}\n",
      "Sold milk for price of 50\n",
      "Sold stationery for price of 4000\n",
      "Balance: 12005, Inventory: {'milk': 45, 'stationery': 2000}\n"
     ]
    }
   ],
   "source": [
    "class SimpleLedger:\n",
    "    def __init__(self, initial_balance):\n",
    "        self.inventory = {}\n",
    "        self.balance = initial_balance\n",
    "\n",
    "    def buy(self, item, price):\n",
    "        if price < self.balance:\n",
    "            self.balance -= price\n",
    "        else:\n",
    "            raise ValueError(f\"Low balance: {self.balance=}, {price=}\")\n",
    "        self.inventory[item] = price\n",
    "        print(f\"Bought {item} for the price of {price}\")\n",
    "\n",
    "    def sell(self, item, price):\n",
    "        if item not in self.inventory:\n",
    "            raise ValueError(f\"Item {item} not in inventory\")\n",
    "        else:\n",
    "            self.balance += price\n",
    "            print(f\"Sold {item} for price of {price}\")\n",
    "\n",
    "    def show(self):\n",
    "        print(f\"Balance: {self.balance}, Inventory: {self.inventory}\")\n",
    "\n",
    "ledger = SimpleLedger(initial_balance=10000)\n",
    "ledger.buy(\"milk\", 45)\n",
    "ledger.buy(\"stationery\", 2000)\n",
    "ledger.show()\n",
    "\n",
    "ledger.sell(\"milk\", 50)\n",
    "ledger.sell(\"stationery\", 4000)\n",
    "ledger.show()"
   ]
  },
  {
   "cell_type": "code",
   "execution_count": 46,
   "id": "405aad55",
   "metadata": {},
   "outputs": [
    {
     "name": "stdout",
     "output_type": "stream",
     "text": [
      "True\n",
      "120\n"
     ]
    }
   ],
   "source": [
    "import mathutils\n",
    "\n",
    "print(mathutils.is_prime(2))\n",
    "print(mathutils.factorial(5))\n"
   ]
  },
  {
   "cell_type": "code",
   "execution_count": null,
   "id": "93c30ac3",
   "metadata": {},
   "outputs": [
    {
     "name": "stdout",
     "output_type": "stream",
     "text": [
      "SUV object created: self=<__main__.SUV object at 0x108a7a600>\n"
     ]
    }
   ],
   "source": [
    "class Car:\n",
    "    def __init__(self):\n",
    "        print(f\"Car object created: {self=}\")\n",
    "\n",
    "    def drive(self):\n",
    "        print(\"Driving a car...\")\n",
    "\n",
    "class SUV(Car):\n",
    "    def __init__(self):  # By default, sub-classes \"override\" all base class methods.\n",
    "        print(f\"SUV object created: {self=}\")\n",
    "\n",
    "\n",
    "s = SUV()"
   ]
  },
  {
   "cell_type": "code",
   "execution_count": 53,
   "id": "de8aa945",
   "metadata": {},
   "outputs": [
    {
     "name": "stdout",
     "output_type": "stream",
     "text": [
      "SUV object make='Toyota' created: self=<__main__.SUV object at 0x108a746b0>\n"
     ]
    }
   ],
   "source": [
    "class Car:\n",
    "    def __init__(self):\n",
    "        print(f\"Car object created: {self=}\")\n",
    "\n",
    "    def drive(self):\n",
    "        print(\"Driving a car...\")\n",
    "\n",
    "class SUV(Car):\n",
    "    def __init__(self, make):\n",
    "        self.make = make\n",
    "        print(f\"SUV object {make=} created: {self=}\")\n",
    "\n",
    "\n",
    "s = SUV(\"Toyota\")"
   ]
  },
  {
   "cell_type": "code",
   "execution_count": 55,
   "id": "30d86686",
   "metadata": {},
   "outputs": [
    {
     "name": "stdout",
     "output_type": "stream",
     "text": [
      "SUV object created: self=<__main__.SUV object at 0x108a77e00>\n"
     ]
    },
    {
     "ename": "AttributeError",
     "evalue": "'SUV' object has no attribute 'make'",
     "output_type": "error",
     "traceback": [
      "\u001b[31m---------------------------------------------------------------------------\u001b[39m",
      "\u001b[31mAttributeError\u001b[39m                            Traceback (most recent call last)",
      "\u001b[36mCell\u001b[39m\u001b[36m \u001b[39m\u001b[32mIn[55]\u001b[39m\u001b[32m, line 15\u001b[39m\n\u001b[32m     11\u001b[39m         \u001b[38;5;28mprint\u001b[39m(\u001b[33mf\u001b[39m\u001b[33m\"\u001b[39m\u001b[33mSUV object created: \u001b[39m\u001b[38;5;132;01m{\u001b[39;00m\u001b[38;5;28mself\u001b[39m\u001b[38;5;132;01m=}\u001b[39;00m\u001b[33m\"\u001b[39m)\n\u001b[32m     14\u001b[39m s = SUV()\n\u001b[32m---> \u001b[39m\u001b[32m15\u001b[39m \u001b[43ms\u001b[49m\u001b[43m.\u001b[49m\u001b[43mdrive\u001b[49m\u001b[43m(\u001b[49m\u001b[43m)\u001b[49m\n",
      "\u001b[36mCell\u001b[39m\u001b[36m \u001b[39m\u001b[32mIn[55]\u001b[39m\u001b[32m, line 7\u001b[39m, in \u001b[36mCar.drive\u001b[39m\u001b[34m(self)\u001b[39m\n\u001b[32m      6\u001b[39m \u001b[38;5;28;01mdef\u001b[39;00m\u001b[38;5;250m \u001b[39m\u001b[34mdrive\u001b[39m(\u001b[38;5;28mself\u001b[39m):\n\u001b[32m----> \u001b[39m\u001b[32m7\u001b[39m     \u001b[38;5;28mprint\u001b[39m(\u001b[33mf\u001b[39m\u001b[33m\"\u001b[39m\u001b[33mDriving \u001b[39m\u001b[38;5;132;01m{\u001b[39;00m\u001b[38;5;28;43mself\u001b[39;49m\u001b[43m.\u001b[49m\u001b[43mmake\u001b[49m\u001b[38;5;132;01m}\u001b[39;00m\u001b[33m\"\u001b[39m)\n",
      "\u001b[31mAttributeError\u001b[39m: 'SUV' object has no attribute 'make'"
     ]
    }
   ],
   "source": [
    "class Car:\n",
    "    def __init__(self, make):\n",
    "        self.make = make\n",
    "        print(f\"Car object created: {self=}\")\n",
    "\n",
    "    def drive(self):\n",
    "        print(f\"Driving {self.make}\")\n",
    "\n",
    "class SUV(Car):\n",
    "    def __init__(self):\n",
    "        print(f\"SUV object created: {self=}\")\n",
    "\n",
    "\n",
    "s = SUV()\n",
    "s.drive()"
   ]
  },
  {
   "cell_type": "code",
   "execution_count": 57,
   "id": "6959257b",
   "metadata": {},
   "outputs": [
    {
     "name": "stdout",
     "output_type": "stream",
     "text": [
      "Car object created: self=<__main__.SUV object at 0x108c736b0>\n",
      "SUV object created: self=<__main__.SUV object at 0x108c736b0>\n",
      "Driving Toyota\n"
     ]
    }
   ],
   "source": [
    "class Car:\n",
    "    def __init__(self, make):\n",
    "        self.make = make\n",
    "        print(f\"Car object created: {self=}\")\n",
    "\n",
    "    def drive(self):\n",
    "        print(f\"Driving {self.make}\")\n",
    "\n",
    "class SUV(Car):\n",
    "    def __init__(self):\n",
    "        Car.__init__(self, \"Toyota\")\n",
    "        print(f\"SUV object created: {self=}\")\n",
    "\n",
    "\n",
    "s = SUV()\n",
    "s.drive()"
   ]
  },
  {
   "cell_type": "code",
   "execution_count": null,
   "id": "b53c1439",
   "metadata": {},
   "outputs": [
    {
     "name": "stdout",
     "output_type": "stream",
     "text": [
      "Car object created: self=<__main__.SUV object at 0x108a9cb30>\n",
      "SUV object created: self=<__main__.SUV object at 0x108a9cb30>\n",
      "Driving Toyota\n"
     ]
    }
   ],
   "source": [
    "class Car:\n",
    "    def __init__(self, make):\n",
    "        self.make = make\n",
    "        print(f\"Car object created: {self=}\")\n",
    "\n",
    "    def drive(self):\n",
    "        print(f\"Driving {self.make}\")\n",
    "\n",
    "class SUV(Car):\n",
    "    def __init__(self):\n",
    "        #super(SUV, self).__init__(\"Toyota\")  # For Python versions < 3.3\n",
    "        super().__init__(\"Toyota\")  # For Python 3.3+\n",
    "        print(f\"SUV object created: {self=}\")\n",
    "\n",
    "\n",
    "s = SUV()\n",
    "s.drive()"
   ]
  },
  {
   "cell_type": "code",
   "execution_count": 60,
   "id": "7c8cacee",
   "metadata": {},
   "outputs": [
    {
     "name": "stdout",
     "output_type": "stream",
     "text": [
      "Powered ON: <__main__.DisplayLED object at 0x108c181d0>\n",
      "Brightness set to 30\n",
      "Powered OFF: <__main__.DisplayLED object at 0x108c181d0>\n"
     ]
    }
   ],
   "source": [
    "class ElectricalAppliance:\n",
    "    def power_on(self):\n",
    "        print(\"Powered ON:\", self)\n",
    "\n",
    "    def power_off(self):\n",
    "        print(\"Powered OFF:\", self)\n",
    "\n",
    "\n",
    "class Display:\n",
    "    def set_brightness(self, value):\n",
    "        print(\"Brightness set to\", value)\n",
    "\n",
    "class DisplayLED(ElectricalAppliance, Display):\n",
    "    pass\n",
    "\n",
    "d = DisplayLED()\n",
    "d.power_on()\n",
    "d.set_brightness(30)\n",
    "d.power_off()"
   ]
  },
  {
   "cell_type": "code",
   "execution_count": null,
   "id": "260749ef",
   "metadata": {},
   "outputs": [
    {
     "name": "stdout",
     "output_type": "stream",
     "text": [
      "Powered ON: <__main__.DisplayLED object at 0x108c181d0>\n",
      "Brightness set to 30\n",
      "Powered OFF: <__main__.DisplayLED object at 0x108c181d0>\n"
     ]
    }
   ],
   "source": [
    "class ElectricalAppliance:\n",
    "    def power_on(self):\n",
    "        print(\"Powered ON:\", self)\n",
    "\n",
    "    def power_off(self):\n",
    "        print(\"Powered OFF:\", self)\n",
    "\n",
    "\n",
    "class Display:\n",
    "    def set_brightness(self, value):\n",
    "        print(\"Brightness set to\", value)\n",
    "\n",
    "class DisplayLED(ElectricalAppliance, Display):\n",
    "    pass\n",
    "\n",
    "d = DisplayLED()\n",
    "d.power_on()\n",
    "d.set_brightness(30)\n",
    "d.power_off()"
   ]
  },
  {
   "cell_type": "code",
   "execution_count": null,
   "id": "5ddce631",
   "metadata": {},
   "outputs": [
    {
     "name": "stdout",
     "output_type": "stream",
     "text": [
      "show method of electrical appliance invoked\n"
     ]
    }
   ],
   "source": [
    "class ElectricalAppliance:\n",
    "    def power_on(self):\n",
    "        print(\"Powered ON:\", self)\n",
    "\n",
    "    def power_off(self):\n",
    "        print(\"Powered OFF:\", self)\n",
    "\n",
    "    def show(self):\n",
    "        print(\"show method of electrical appliance invoked\")\n",
    "\n",
    "class Display:\n",
    "    def set_brightness(self, value):\n",
    "        print(\"Brightness set to\", value)\n",
    "\n",
    "    def show(self):\n",
    "        print(\"show method of display invoked\")\n",
    "\n",
    "\n",
    "class DisplayLED(ElectricalAppliance, Display):\n",
    "    def show(self):\n",
    "        Display.show(self)\n",
    "        #super().show()\n",
    "\n",
    "d = DisplayLED()\n",
    "d.show()"
   ]
  },
  {
   "cell_type": "code",
   "execution_count": 68,
   "id": "df9632b5",
   "metadata": {},
   "outputs": [
    {
     "name": "stdout",
     "output_type": "stream",
     "text": [
      "A\n"
     ]
    }
   ],
   "source": [
    "class A:\n",
    "    def method(self):\n",
    "        print(\"A\")\n",
    "\n",
    "class B(A):\n",
    "    def method1(self):\n",
    "        print(\"B\")\n",
    "\n",
    "class C(A):\n",
    "    def method2(self):\n",
    "        print(\"C\")\n",
    "\n",
    "class D(B, C): pass\n",
    "\n",
    "d = D()\n",
    "d.method()"
   ]
  },
  {
   "cell_type": "code",
   "execution_count": null,
   "id": "836f94fa",
   "metadata": {},
   "outputs": [],
   "source": [
    "class HTTP:\n",
    "    def __init__(self):\n",
    "        print(\"Created a HTTP instance\")\n",
    "\n",
    "    def get(self, url):\n",
    "        print(\"Fetching\", url)\n",
    "\n",
    "class SMTP:\n",
    "    def __init__(self):\n",
    "        print(\"Created SMTP instance\")\n",
    "\n",
    "    def send(self, message):\n",
    "        print(\"Sending email:\", message)\n",
    "\n",
    "class SSL:   # A class that will be used as a Mixin\n",
    "    def connect(self):\n",
    "        print(\"Establishing secure connection\")\n",
    "\n",
    "class HTTPS(SSL, HTTP): pass\n",
    "\n",
    "class ESMTP(SSL, SMTP): pass\n"
   ]
  }
 ],
 "metadata": {
  "kernelspec": {
   "display_name": "Python 3",
   "language": "python",
   "name": "python3"
  },
  "language_info": {
   "codemirror_mode": {
    "name": "ipython",
    "version": 3
   },
   "file_extension": ".py",
   "mimetype": "text/x-python",
   "name": "python",
   "nbconvert_exporter": "python",
   "pygments_lexer": "ipython3",
   "version": "3.12.11"
  }
 },
 "nbformat": 4,
 "nbformat_minor": 5
}
