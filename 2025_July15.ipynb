{
 "cells": [
  {
   "cell_type": "markdown",
   "id": "1fa7222f",
   "metadata": {},
   "source": [
    "## Python For Developers - Day 2\n",
    "\n",
    "#### Advanced OOP Features and Design Patterns"
   ]
  },
  {
   "cell_type": "code",
   "execution_count": 2,
   "id": "87937182",
   "metadata": {},
   "outputs": [],
   "source": [
    "class Person:\n",
    "    species = \"Homo Sapiens\"\n",
    "    count = 0\n",
    "\n",
    "    def __init__(self, name=\"guest\"):\n",
    "        self.name = name\n",
    "\n",
    "p1 = Person(\"john\")\n",
    "p2 = Person(\"claire\")\n",
    "\n",
    "p3 = Person()"
   ]
  },
  {
   "cell_type": "code",
   "execution_count": 5,
   "id": "b93a50ef",
   "metadata": {},
   "outputs": [
    {
     "name": "stdout",
     "output_type": "stream",
     "text": [
      "John says 'Welcome to Mumbai!'\n"
     ]
    },
    {
     "ename": "TypeError",
     "evalue": "Person.greet() missing 1 required positional argument: 'place'",
     "output_type": "error",
     "traceback": [
      "\u001b[31m---------------------------------------------------------------------------\u001b[39m",
      "\u001b[31mTypeError\u001b[39m                                 Traceback (most recent call last)",
      "\u001b[36mCell\u001b[39m\u001b[36m \u001b[39m\u001b[32mIn[5]\u001b[39m\u001b[32m, line 13\u001b[39m\n\u001b[32m     11\u001b[39m p = Person(\u001b[33m\"\u001b[39m\u001b[33mJohn\u001b[39m\u001b[33m\"\u001b[39m)\n\u001b[32m     12\u001b[39m p.greet(\u001b[33m\"\u001b[39m\u001b[33mMumbai\u001b[39m\u001b[33m\"\u001b[39m)\n\u001b[32m---> \u001b[39m\u001b[32m13\u001b[39m \u001b[43mp\u001b[49m\u001b[43m.\u001b[49m\u001b[43mgreet\u001b[49m\u001b[43m(\u001b[49m\u001b[43m)\u001b[49m\n",
      "\u001b[31mTypeError\u001b[39m: Person.greet() missing 1 required positional argument: 'place'"
     ]
    }
   ],
   "source": [
    "class Person:\n",
    "    def __init__(self, name):\n",
    "        self.name = name\n",
    "\n",
    "    def greet(self):\n",
    "        print(f\"{self.name} says 'Hi'\")\n",
    "\n",
    "    def greet(self, place):\n",
    "        print(f\"{self.name} says 'Welcome to {place}!'\")\n",
    "\n",
    "p = Person(\"John\")\n",
    "p.greet(\"Mumbai\")\n",
    "p.greet()"
   ]
  },
  {
   "cell_type": "code",
   "execution_count": 12,
   "id": "a1973581",
   "metadata": {},
   "outputs": [
    {
     "name": "stdout",
     "output_type": "stream",
     "text": [
      "John says 'Welcome to Mumbai!'\n",
      "John says 'Hi!\n"
     ]
    }
   ],
   "source": [
    "class Person:\n",
    "    def __init__(self, name):\n",
    "        self.name = name\n",
    "\n",
    "    def greet(self, place=None):\n",
    "        if place is None:\n",
    "            print(f\"{self.name} says 'Hi!\")\n",
    "        else:\n",
    "            print(f\"{self.name} says 'Welcome to {place}!'\")\n",
    "\n",
    "p = Person(\"John\")\n",
    "p.greet(\"Mumbai\")\n",
    "p.greet()"
   ]
  },
  {
   "cell_type": "code",
   "execution_count": 7,
   "id": "5b44d6b9",
   "metadata": {},
   "outputs": [
    {
     "name": "stdout",
     "output_type": "stream",
     "text": [
      "100\n",
      "Hello world\n"
     ]
    }
   ],
   "source": [
    "a = 100\n",
    "print(a)\n",
    "a = \"Hello world\"\n",
    "print(a)"
   ]
  },
  {
   "cell_type": "code",
   "execution_count": 11,
   "id": "1b1a325a",
   "metadata": {},
   "outputs": [
    {
     "name": "stdout",
     "output_type": "stream",
     "text": [
      "Hello John\n"
     ]
    }
   ],
   "source": [
    "def greet():\n",
    "    print(\"greetings\")\n",
    "\n",
    "def greet(u):\n",
    "    print(\"Hello\", u)\n",
    "\n",
    "greet(\"John\")"
   ]
  },
  {
   "cell_type": "markdown",
   "id": "d2b1d79a",
   "metadata": {},
   "source": [
    "### Instance methods vs Class methods\n",
    "\n",
    "Instance methods are methods that we invoke on instances of classes. \n",
    "These methods can access both instance attributes and class attributes\n",
    "\n",
    "Class methods however, are methods that we can invoke on both classes and instances.\n",
    "These methods can only access class attributes"
   ]
  },
  {
   "cell_type": "code",
   "execution_count": 16,
   "id": "c2dbcdae",
   "metadata": {},
   "outputs": [
    {
     "name": "stdout",
     "output_type": "stream",
     "text": [
      "red red\n",
      "Color is red\n",
      "red green\n"
     ]
    }
   ],
   "source": [
    "class Car:\n",
    "    color = \"red\"\n",
    "\n",
    "    def show_color(self):\n",
    "        print(\"Color is\", self.color)\n",
    "\n",
    "    def change_color(self, new_color):\n",
    "        self.color = new_color\n",
    "\n",
    "c = Car()\n",
    "print(Car.color, c.color)\n",
    "c.show_color()\n",
    "c.change_color(\"green\")\n",
    "print(Car.color, c.color)"
   ]
  },
  {
   "cell_type": "code",
   "execution_count": null,
   "id": "6f9c9eb2",
   "metadata": {},
   "outputs": [
    {
     "name": "stdout",
     "output_type": "stream",
     "text": [
      "red red\n",
      "Color is red\n",
      "Color is green\n",
      "green green\n"
     ]
    }
   ],
   "source": [
    "class Car:\n",
    "    color = \"red\"\n",
    "\n",
    "    def show_color(self):\n",
    "        print(\"Color is\", self.color)\n",
    "\n",
    "    def change_color(self, new_color):\n",
    "        Car.color = new_color\n",
    "\n",
    "c = Car()\n",
    "print(Car.color, c.color)\n",
    "c.show_color()\n",
    "c.change_color(\"green\")\n",
    "c.show_color()\n",
    "print(Car.color, c.color)"
   ]
  },
  {
   "cell_type": "code",
   "execution_count": 19,
   "id": "6f2b0f79",
   "metadata": {},
   "outputs": [
    {
     "name": "stdout",
     "output_type": "stream",
     "text": [
      "red red\n",
      "Color is red\n",
      "Color is green\n",
      "green green\n"
     ]
    }
   ],
   "source": [
    "class Car:\n",
    "    color = \"red\"\n",
    "\n",
    "    def show_color(self):\n",
    "        print(\"Color is\", self.color)\n",
    "\n",
    "    @classmethod\n",
    "    def change_color(cls, new_color):\n",
    "        cls.color = new_color\n",
    "\n",
    "c = Car()\n",
    "print(Car.color, c.color)\n",
    "c.show_color()\n",
    "c.change_color(\"green\")\n",
    "c.show_color()\n",
    "print(Car.color, c.color)"
   ]
  },
  {
   "cell_type": "code",
   "execution_count": 25,
   "id": "1d70c402",
   "metadata": {},
   "outputs": [
    {
     "name": "stdout",
     "output_type": "stream",
     "text": [
      "<__main__.Car object at 0x108c090a0>\n",
      "s = <__main__.Car object at 0x108c090a0>\n",
      "s = <class '__main__.Car'>\n",
      "<class '__main__.Car'>\n",
      "s = <class '__main__.Car'>\n"
     ]
    },
    {
     "ename": "TypeError",
     "evalue": "Car.drive() missing 1 required positional argument: 's'",
     "output_type": "error",
     "traceback": [
      "\u001b[31m---------------------------------------------------------------------------\u001b[39m",
      "\u001b[31mTypeError\u001b[39m                                 Traceback (most recent call last)",
      "\u001b[36mCell\u001b[39m\u001b[36m \u001b[39m\u001b[32mIn[25]\u001b[39m\u001b[32m, line 16\u001b[39m\n\u001b[32m     13\u001b[39m \u001b[38;5;28mprint\u001b[39m(Car)\n\u001b[32m     15\u001b[39m Car.drive2()\n\u001b[32m---> \u001b[39m\u001b[32m16\u001b[39m \u001b[43mCar\u001b[49m\u001b[43m.\u001b[49m\u001b[43mdrive\u001b[49m\u001b[43m(\u001b[49m\u001b[43m)\u001b[49m\n",
      "\u001b[31mTypeError\u001b[39m: Car.drive() missing 1 required positional argument: 's'"
     ]
    }
   ],
   "source": [
    "class Car:\n",
    "    def drive(s):\n",
    "        print(\"s =\", s)\n",
    "\n",
    "    @classmethod\n",
    "    def drive2(s):\n",
    "        print(\"s =\", s)\n",
    "\n",
    "c = Car()\n",
    "print(c)\n",
    "c.drive()\n",
    "c.drive2()\n",
    "print(Car)\n",
    "\n",
    "Car.drive2()\n",
    "Car.drive()"
   ]
  },
  {
   "cell_type": "code",
   "execution_count": 30,
   "id": "e50ade60",
   "metadata": {},
   "outputs": [
    {
     "name": "stdout",
     "output_type": "stream",
     "text": [
      "Created a new car object\n",
      "Created a new car object\n",
      "Created a new car object\n"
     ]
    },
    {
     "data": {
      "text/plain": [
       "3"
      ]
     },
     "execution_count": 30,
     "metadata": {},
     "output_type": "execute_result"
    }
   ],
   "source": [
    "class Car:\n",
    "    count = 0\n",
    "\n",
    "    @classmethod\n",
    "    def inc_count(cls):\n",
    "        cls.count += 1 \n",
    "\n",
    "    def __init__(self):\n",
    "        self.inc_count()\n",
    "        print(\"Created a new car object\")\n",
    "\n",
    "c1 = Car()\n",
    "c2 = Car()\n",
    "c3 = Car()\n",
    "\n",
    "Car.count\n"
   ]
  },
  {
   "cell_type": "code",
   "execution_count": 33,
   "id": "4b42fe6a",
   "metadata": {},
   "outputs": [
    {
     "name": "stdout",
     "output_type": "stream",
     "text": [
      "15 7 2025\n",
      "15 7 2025\n",
      "15 7 2025\n"
     ]
    }
   ],
   "source": [
    "class Date:\n",
    "    def __init__(self, day, month, year):\n",
    "        self.day = day\n",
    "        self.month = month\n",
    "        self.year = year\n",
    "    \n",
    "    @classmethod\n",
    "    def from_string(cls, date_string):\n",
    "        \"\"\"Alternative constructor \n",
    "           from string YYYY-MM-DD\"\"\"\n",
    "        year, month, day = \\\n",
    "           map(int, date_string.split('-'))\n",
    "        return cls(day, month, year)\n",
    "    \n",
    "    @classmethod\n",
    "    def today(cls):\n",
    "        \"\"\"Factory method for current date\"\"\"\n",
    "        import datetime\n",
    "        now = datetime.datetime.now()\n",
    "        return cls(now.day, now.month, now.year)\n",
    "    \n",
    "# Using class methods\n",
    "\n",
    "date1 = Date(15, 7, 2025)\n",
    "print(date1.day, date1.month, date1.year)\n",
    "\n",
    "date2 = Date.from_string(\"2025-07-15\")\n",
    "print(date2.day, date2.month, date2.year)\n",
    "\n",
    "date3 = Date.today()\n",
    "print(date3.day, date3.month, date3.year)\n",
    "\n"
   ]
  },
  {
   "cell_type": "code",
   "execution_count": 36,
   "id": "15c8880c",
   "metadata": {},
   "outputs": [
    {
     "data": {
      "text/plain": [
       "4"
      ]
     },
     "execution_count": 36,
     "metadata": {},
     "output_type": "execute_result"
    }
   ],
   "source": [
    "class MathUtils:\n",
    "\n",
    "    @staticmethod\n",
    "    def square(x):\n",
    "        return x*x\n",
    "    \n",
    "MathUtils.square(2)\n",
    "\n",
    "m = MathUtils()\n",
    "m.square(2)"
   ]
  },
  {
   "cell_type": "markdown",
   "id": "e7f440df",
   "metadata": {},
   "source": [
    "### Functions can be broadly classified as:\n",
    "  1. \"Pure\" Functions\n",
    "  2. Functions with \"side-effects\""
   ]
  },
  {
   "cell_type": "code",
   "execution_count": null,
   "id": "fd67778a",
   "metadata": {},
   "outputs": [
    {
     "data": {
      "text/plain": [
       "6084"
      ]
     },
     "execution_count": 37,
     "metadata": {},
     "output_type": "execute_result"
    }
   ],
   "source": [
    "def square(x):  # This is an example of a pure function\n",
    "    return x*x\n",
    "\n",
    "# Pure functions do not modify any state outside their local-scope. They do not \n",
    "# carry-forward states across calls.\n",
    "\n",
    "square(2)\n",
    "square(3)\n",
    "square(78)"
   ]
  },
  {
   "cell_type": "code",
   "execution_count": null,
   "id": "b7fb5979",
   "metadata": {},
   "outputs": [
    {
     "data": {
      "text/plain": [
       "[4, 16, 289]"
      ]
     },
     "execution_count": 38,
     "metadata": {},
     "output_type": "execute_result"
    }
   ],
   "source": [
    "squares = []\n",
    "\n",
    "def square(x):  # An example of a function with side-effects\n",
    "    squares.append(x*x)\n",
    "    return x*x\n",
    "\n",
    "square(2)\n",
    "square(4)\n",
    "square(17)\n",
    "squares"
   ]
  },
  {
   "cell_type": "code",
   "execution_count": 40,
   "id": "ab8c805d",
   "metadata": {},
   "outputs": [
    {
     "name": "stdout",
     "output_type": "stream",
     "text": [
      "data=[3, 6, 1, 8], r=[9, 36, 1, 64]\n",
      "data=[9, 36, 1, 64]\n"
     ]
    }
   ],
   "source": [
    "def square_list(nums): # Another example of a \"pure\" function\n",
    "    result = []\n",
    "    for v in nums:\n",
    "        result.append(v*v)\n",
    "    return result\n",
    "\n",
    "def square_list2(nums): # Another example of function with side-effects\n",
    "    for i, v in enumerate(nums):\n",
    "        nums[i] = v*v\n",
    "\n",
    "data = [3, 6, 1, 8]\n",
    "r = square_list(data)  # An example of a 'map' operation\n",
    "print(f\"{data=}, {r=}\")\n",
    "\n",
    "square_list2(data)\n",
    "print(f\"{data=}\")"
   ]
  },
  {
   "cell_type": "code",
   "execution_count": 44,
   "id": "84d1c607",
   "metadata": {},
   "outputs": [
    {
     "name": "stdout",
     "output_type": "stream",
     "text": [
      "Bought milk for the price of 45\n",
      "Bought stationery for the price of 2000\n",
      "balance=7955, inventory={'milk': 45, 'stationery': 2000}\n",
      "Sold milk for price of 50\n",
      "Sold stationery for price of 4000\n",
      "balance=12005, inventory={'milk': 45, 'stationery': 2000}\n"
     ]
    }
   ],
   "source": [
    "inventory = {}\n",
    "balance = 10000\n",
    "\n",
    "def buy(item, price):\n",
    "    global balance\n",
    "    if price < balance:\n",
    "        balance -= price\n",
    "    else:\n",
    "        raise ValueError(f\"Low balance: {balance=}, {price=}\")\n",
    "    inventory[item] = price\n",
    "    print(f\"Bought {item} for the price of {price}\")\n",
    "\n",
    "def sell(item, price):\n",
    "    global balance\n",
    "    if item not in inventory:\n",
    "        raise ValueError(f\"Item {item} not in inventory\")\n",
    "    else:\n",
    "        balance += price\n",
    "        print(f\"Sold {item} for price of {price}\")\n",
    "\n",
    "buy(\"milk\", 45)\n",
    "buy(\"stationery\", 2000)\n",
    "print(f\"{balance=}, {inventory=}\")\n",
    "\n",
    "sell(\"milk\", 50)\n",
    "sell(\"stationery\", 4000)\n",
    "print(f\"{balance=}, {inventory=}\")\n"
   ]
  },
  {
   "cell_type": "code",
   "execution_count": 45,
   "id": "1cdfaf9c",
   "metadata": {},
   "outputs": [
    {
     "name": "stdout",
     "output_type": "stream",
     "text": [
      "Bought milk for the price of 45\n",
      "Bought stationery for the price of 2000\n",
      "Balance: 7955, Inventory: {'milk': 45, 'stationery': 2000}\n",
      "Sold milk for price of 50\n",
      "Sold stationery for price of 4000\n",
      "Balance: 12005, Inventory: {'milk': 45, 'stationery': 2000}\n"
     ]
    }
   ],
   "source": [
    "class SimpleLedger:\n",
    "    def __init__(self, initial_balance):\n",
    "        self.inventory = {}\n",
    "        self.balance = initial_balance\n",
    "\n",
    "    def buy(self, item, price):\n",
    "        if price < self.balance:\n",
    "            self.balance -= price\n",
    "        else:\n",
    "            raise ValueError(f\"Low balance: {self.balance=}, {price=}\")\n",
    "        self.inventory[item] = price\n",
    "        print(f\"Bought {item} for the price of {price}\")\n",
    "\n",
    "    def sell(self, item, price):\n",
    "        if item not in self.inventory:\n",
    "            raise ValueError(f\"Item {item} not in inventory\")\n",
    "        else:\n",
    "            self.balance += price\n",
    "            print(f\"Sold {item} for price of {price}\")\n",
    "\n",
    "    def show(self):\n",
    "        print(f\"Balance: {self.balance}, Inventory: {self.inventory}\")\n",
    "\n",
    "ledger = SimpleLedger(initial_balance=10000)\n",
    "ledger.buy(\"milk\", 45)\n",
    "ledger.buy(\"stationery\", 2000)\n",
    "ledger.show()\n",
    "\n",
    "ledger.sell(\"milk\", 50)\n",
    "ledger.sell(\"stationery\", 4000)\n",
    "ledger.show()"
   ]
  },
  {
   "cell_type": "code",
   "execution_count": 46,
   "id": "405aad55",
   "metadata": {},
   "outputs": [
    {
     "name": "stdout",
     "output_type": "stream",
     "text": [
      "True\n",
      "120\n"
     ]
    }
   ],
   "source": [
    "import mathutils\n",
    "\n",
    "print(mathutils.is_prime(2))\n",
    "print(mathutils.factorial(5))\n"
   ]
  },
  {
   "cell_type": "code",
   "execution_count": null,
   "id": "93c30ac3",
   "metadata": {},
   "outputs": [
    {
     "name": "stdout",
     "output_type": "stream",
     "text": [
      "SUV object created: self=<__main__.SUV object at 0x108a7a600>\n"
     ]
    }
   ],
   "source": [
    "class Car:\n",
    "    def __init__(self):\n",
    "        print(f\"Car object created: {self=}\")\n",
    "\n",
    "    def drive(self):\n",
    "        print(\"Driving a car...\")\n",
    "\n",
    "class SUV(Car):\n",
    "    def __init__(self):  # By default, sub-classes \"override\" all base class methods.\n",
    "        print(f\"SUV object created: {self=}\")\n",
    "\n",
    "\n",
    "s = SUV()"
   ]
  },
  {
   "cell_type": "code",
   "execution_count": 53,
   "id": "de8aa945",
   "metadata": {},
   "outputs": [
    {
     "name": "stdout",
     "output_type": "stream",
     "text": [
      "SUV object make='Toyota' created: self=<__main__.SUV object at 0x108a746b0>\n"
     ]
    }
   ],
   "source": [
    "class Car:\n",
    "    def __init__(self):\n",
    "        print(f\"Car object created: {self=}\")\n",
    "\n",
    "    def drive(self):\n",
    "        print(\"Driving a car...\")\n",
    "\n",
    "class SUV(Car):\n",
    "    def __init__(self, make):\n",
    "        self.make = make\n",
    "        print(f\"SUV object {make=} created: {self=}\")\n",
    "\n",
    "\n",
    "s = SUV(\"Toyota\")"
   ]
  },
  {
   "cell_type": "code",
   "execution_count": 55,
   "id": "30d86686",
   "metadata": {},
   "outputs": [
    {
     "name": "stdout",
     "output_type": "stream",
     "text": [
      "SUV object created: self=<__main__.SUV object at 0x108a77e00>\n"
     ]
    },
    {
     "ename": "AttributeError",
     "evalue": "'SUV' object has no attribute 'make'",
     "output_type": "error",
     "traceback": [
      "\u001b[31m---------------------------------------------------------------------------\u001b[39m",
      "\u001b[31mAttributeError\u001b[39m                            Traceback (most recent call last)",
      "\u001b[36mCell\u001b[39m\u001b[36m \u001b[39m\u001b[32mIn[55]\u001b[39m\u001b[32m, line 15\u001b[39m\n\u001b[32m     11\u001b[39m         \u001b[38;5;28mprint\u001b[39m(\u001b[33mf\u001b[39m\u001b[33m\"\u001b[39m\u001b[33mSUV object created: \u001b[39m\u001b[38;5;132;01m{\u001b[39;00m\u001b[38;5;28mself\u001b[39m\u001b[38;5;132;01m=}\u001b[39;00m\u001b[33m\"\u001b[39m)\n\u001b[32m     14\u001b[39m s = SUV()\n\u001b[32m---> \u001b[39m\u001b[32m15\u001b[39m \u001b[43ms\u001b[49m\u001b[43m.\u001b[49m\u001b[43mdrive\u001b[49m\u001b[43m(\u001b[49m\u001b[43m)\u001b[49m\n",
      "\u001b[36mCell\u001b[39m\u001b[36m \u001b[39m\u001b[32mIn[55]\u001b[39m\u001b[32m, line 7\u001b[39m, in \u001b[36mCar.drive\u001b[39m\u001b[34m(self)\u001b[39m\n\u001b[32m      6\u001b[39m \u001b[38;5;28;01mdef\u001b[39;00m\u001b[38;5;250m \u001b[39m\u001b[34mdrive\u001b[39m(\u001b[38;5;28mself\u001b[39m):\n\u001b[32m----> \u001b[39m\u001b[32m7\u001b[39m     \u001b[38;5;28mprint\u001b[39m(\u001b[33mf\u001b[39m\u001b[33m\"\u001b[39m\u001b[33mDriving \u001b[39m\u001b[38;5;132;01m{\u001b[39;00m\u001b[38;5;28;43mself\u001b[39;49m\u001b[43m.\u001b[49m\u001b[43mmake\u001b[49m\u001b[38;5;132;01m}\u001b[39;00m\u001b[33m\"\u001b[39m)\n",
      "\u001b[31mAttributeError\u001b[39m: 'SUV' object has no attribute 'make'"
     ]
    }
   ],
   "source": [
    "class Car:\n",
    "    def __init__(self, make):\n",
    "        self.make = make\n",
    "        print(f\"Car object created: {self=}\")\n",
    "\n",
    "    def drive(self):\n",
    "        print(f\"Driving {self.make}\")\n",
    "\n",
    "class SUV(Car):\n",
    "    def __init__(self):\n",
    "        print(f\"SUV object created: {self=}\")\n",
    "\n",
    "\n",
    "s = SUV()\n",
    "s.drive()"
   ]
  },
  {
   "cell_type": "code",
   "execution_count": 57,
   "id": "6959257b",
   "metadata": {},
   "outputs": [
    {
     "name": "stdout",
     "output_type": "stream",
     "text": [
      "Car object created: self=<__main__.SUV object at 0x108c736b0>\n",
      "SUV object created: self=<__main__.SUV object at 0x108c736b0>\n",
      "Driving Toyota\n"
     ]
    }
   ],
   "source": [
    "class Car:\n",
    "    def __init__(self, make):\n",
    "        self.make = make\n",
    "        print(f\"Car object created: {self=}\")\n",
    "\n",
    "    def drive(self):\n",
    "        print(f\"Driving {self.make}\")\n",
    "\n",
    "class SUV(Car):\n",
    "    def __init__(self):\n",
    "        Car.__init__(self, \"Toyota\")\n",
    "        print(f\"SUV object created: {self=}\")\n",
    "\n",
    "\n",
    "s = SUV()\n",
    "s.drive()"
   ]
  },
  {
   "cell_type": "code",
   "execution_count": null,
   "id": "b53c1439",
   "metadata": {},
   "outputs": [
    {
     "name": "stdout",
     "output_type": "stream",
     "text": [
      "Car object created: self=<__main__.SUV object at 0x108a9cb30>\n",
      "SUV object created: self=<__main__.SUV object at 0x108a9cb30>\n",
      "Driving Toyota\n"
     ]
    }
   ],
   "source": [
    "class Car:\n",
    "    def __init__(self, make):\n",
    "        self.make = make\n",
    "        print(f\"Car object created: {self=}\")\n",
    "\n",
    "    def drive(self):\n",
    "        print(f\"Driving {self.make}\")\n",
    "\n",
    "class SUV(Car):\n",
    "    def __init__(self):\n",
    "        #super(SUV, self).__init__(\"Toyota\")  # For Python versions < 3.3\n",
    "        super().__init__(\"Toyota\")  # For Python 3.3+\n",
    "        print(f\"SUV object created: {self=}\")\n",
    "\n",
    "\n",
    "s = SUV()\n",
    "s.drive()"
   ]
  },
  {
   "cell_type": "code",
   "execution_count": 60,
   "id": "7c8cacee",
   "metadata": {},
   "outputs": [
    {
     "name": "stdout",
     "output_type": "stream",
     "text": [
      "Powered ON: <__main__.DisplayLED object at 0x108c181d0>\n",
      "Brightness set to 30\n",
      "Powered OFF: <__main__.DisplayLED object at 0x108c181d0>\n"
     ]
    }
   ],
   "source": [
    "class ElectricalAppliance:\n",
    "    def power_on(self):\n",
    "        print(\"Powered ON:\", self)\n",
    "\n",
    "    def power_off(self):\n",
    "        print(\"Powered OFF:\", self)\n",
    "\n",
    "\n",
    "class Display:\n",
    "    def set_brightness(self, value):\n",
    "        print(\"Brightness set to\", value)\n",
    "\n",
    "class DisplayLED(ElectricalAppliance, Display):\n",
    "    pass\n",
    "\n",
    "d = DisplayLED()\n",
    "d.power_on()\n",
    "d.set_brightness(30)\n",
    "d.power_off()"
   ]
  },
  {
   "cell_type": "code",
   "execution_count": null,
   "id": "260749ef",
   "metadata": {},
   "outputs": [
    {
     "name": "stdout",
     "output_type": "stream",
     "text": [
      "Powered ON: <__main__.DisplayLED object at 0x108c181d0>\n",
      "Brightness set to 30\n",
      "Powered OFF: <__main__.DisplayLED object at 0x108c181d0>\n"
     ]
    }
   ],
   "source": [
    "class ElectricalAppliance:\n",
    "    def power_on(self):\n",
    "        print(\"Powered ON:\", self)\n",
    "\n",
    "    def power_off(self):\n",
    "        print(\"Powered OFF:\", self)\n",
    "\n",
    "\n",
    "class Display:\n",
    "    def set_brightness(self, value):\n",
    "        print(\"Brightness set to\", value)\n",
    "\n",
    "class DisplayLED(ElectricalAppliance, Display):\n",
    "    pass\n",
    "\n",
    "d = DisplayLED()\n",
    "d.power_on()\n",
    "d.set_brightness(30)\n",
    "d.power_off()"
   ]
  },
  {
   "cell_type": "code",
   "execution_count": null,
   "id": "5ddce631",
   "metadata": {},
   "outputs": [
    {
     "name": "stdout",
     "output_type": "stream",
     "text": [
      "show method of electrical appliance invoked\n"
     ]
    }
   ],
   "source": [
    "class ElectricalAppliance:\n",
    "    def power_on(self):\n",
    "        print(\"Powered ON:\", self)\n",
    "\n",
    "    def power_off(self):\n",
    "        print(\"Powered OFF:\", self)\n",
    "\n",
    "    def show(self):\n",
    "        print(\"show method of electrical appliance invoked\")\n",
    "\n",
    "class Display:\n",
    "    def set_brightness(self, value):\n",
    "        print(\"Brightness set to\", value)\n",
    "\n",
    "    def show(self):\n",
    "        print(\"show method of display invoked\")\n",
    "\n",
    "\n",
    "class DisplayLED(ElectricalAppliance, Display):\n",
    "    def show(self):\n",
    "        Display.show(self)\n",
    "        #super().show()\n",
    "\n",
    "d = DisplayLED()\n",
    "d.show()"
   ]
  },
  {
   "cell_type": "code",
   "execution_count": 68,
   "id": "df9632b5",
   "metadata": {},
   "outputs": [
    {
     "name": "stdout",
     "output_type": "stream",
     "text": [
      "A\n"
     ]
    }
   ],
   "source": [
    "class A:\n",
    "    def method(self):\n",
    "        print(\"A\")\n",
    "\n",
    "class B(A):\n",
    "    def method1(self):\n",
    "        print(\"B\")\n",
    "\n",
    "class C(A):\n",
    "    def method2(self):\n",
    "        print(\"C\")\n",
    "\n",
    "class D(B, C): pass\n",
    "\n",
    "d = D()\n",
    "d.method()"
   ]
  },
  {
   "cell_type": "code",
   "execution_count": null,
   "id": "836f94fa",
   "metadata": {},
   "outputs": [],
   "source": [
    "class HTTP:\n",
    "    def __init__(self):\n",
    "        print(\"Created a HTTP instance\")\n",
    "\n",
    "    def get(self, url):\n",
    "        print(\"Fetching\", url)\n",
    "\n",
    "class SMTP:\n",
    "    def __init__(self):\n",
    "        print(\"Created SMTP instance\")\n",
    "\n",
    "    def send(self, message):\n",
    "        print(\"Sending email:\", message)\n",
    "\n",
    "class SSL:   # A class that will be used as a Mixin\n",
    "    def connect(self):\n",
    "        print(\"Establishing secure connection\")\n",
    "\n",
    "class HTTPS(SSL, HTTP): pass\n",
    "\n",
    "class ESMTP(SSL, SMTP): pass\n"
   ]
  },
  {
   "cell_type": "markdown",
   "id": "87ca71f7",
   "metadata": {},
   "source": [
    "#### Life-cycle methods:\n",
    "  ```__new__()```,\n",
    "  ```__init__()```,  # The method you'd use for most use-cases\n",
    " ```__del__()```\n"
   ]
  },
  {
   "cell_type": "markdown",
   "id": "c889e8e4",
   "metadata": {},
   "source": [
    "NOTE: By default, from Python 3.0 onwards, all classes by default inherit \n",
    "a base class called 'object' "
   ]
  },
  {
   "cell_type": "code",
   "execution_count": 72,
   "id": "8bd95c60",
   "metadata": {},
   "outputs": [
    {
     "name": "stdout",
     "output_type": "stream",
     "text": [
      "<class 'object'>\n"
     ]
    }
   ],
   "source": [
    "print(object)"
   ]
  },
  {
   "cell_type": "code",
   "execution_count": 75,
   "id": "24a29633",
   "metadata": {},
   "outputs": [
    {
     "name": "stdout",
     "output_type": "stream",
     "text": [
      "__new__ method invoked: cls=<class '__main__.User'>\n",
      "100 <class 'int'>\n"
     ]
    }
   ],
   "source": [
    "class User:\n",
    "    def __new__(cls):\n",
    "        print(f\"__new__ method invoked: {cls=}\")\n",
    "        return 100\n",
    "\n",
    "u = User()\n",
    "print(u, type(u))"
   ]
  },
  {
   "cell_type": "code",
   "execution_count": 81,
   "id": "0ef9d762",
   "metadata": {},
   "outputs": [
    {
     "name": "stdout",
     "output_type": "stream",
     "text": [
      "Administrator object created.\n",
      "Staff object created.\n",
      "Guest object created.\n",
      "<__main__.Administrator object at 0x108c65d90>\n",
      "<__main__.Staff object at 0x108c0a450>\n",
      "<__main__.Guest object at 0x108c09df0>\n",
      "Adding new user: jones\n",
      "Working...\n",
      "Visiting...\n"
     ]
    }
   ],
   "source": [
    "# A simple factory pattern example\n",
    "\n",
    "class Administrator:\n",
    "    def __init__(self, name):\n",
    "        self.name = name\n",
    "        print(\"Administrator object created.\")\n",
    "    \n",
    "    def add_user(self, username):\n",
    "        print(\"Adding new user:\", username)\n",
    "\n",
    "\n",
    "class Staff:\n",
    "    def __init__(self, name):\n",
    "        self.name = name\n",
    "        print(\"Staff object created.\")\n",
    "\n",
    "    def work(self):\n",
    "        print(\"Working...\")\n",
    "\n",
    "class Guest:\n",
    "    def __init__(self, name):\n",
    "        self.name = name\n",
    "        print(\"Guest object created.\")\n",
    "\n",
    "    def visit(self):\n",
    "        print(\"Visiting...\")\n",
    "\n",
    "class User:\n",
    "    def __new__(cls, name):\n",
    "        if name in (\"root\", \"admin\", \"Administrator\"):\n",
    "            return Administrator(name)\n",
    "        elif name in (\"john\", \"smith\", \"sam\", \"joe\"):\n",
    "            return Staff(name)\n",
    "        else:\n",
    "            return Guest(name)\n",
    "        \n",
    "u1 = User(\"root\")\n",
    "u2 = User(\"smith\")\n",
    "u3 = User(\"Rhodes\")\n",
    "print(u1, u2, u3, sep=\"\\n\")\n",
    "u1.add_user(\"jones\")\n",
    "u2.work()\n",
    "u3.visit()"
   ]
  },
  {
   "cell_type": "code",
   "execution_count": 87,
   "id": "6f809a36",
   "metadata": {},
   "outputs": [
    {
     "name": "stdout",
     "output_type": "stream",
     "text": [
      "<__main__.Guest object at 0x108c5f620> logged in\n"
     ]
    }
   ],
   "source": [
    "# Abstract Factory Pattern\n",
    "class UserBase:\n",
    "    def login(self):\n",
    "        print(f\"{self} logged in\")\n",
    "\n",
    "    def logout(self):\n",
    "        print(f\"{self} logged out\")\n",
    "\n",
    "class Administrator(UserBase): pass\n",
    "\n",
    "class Staff(UserBase): pass\n",
    "\n",
    "class Guest(UserBase): pass\n",
    "\n",
    "\n",
    "class User:\n",
    "    def __new__(cls, name):\n",
    "        if name in (\"root\", \"admin\", \"Administrator\"):\n",
    "            return Administrator()\n",
    "        elif name in (\"john\", \"smith\", \"sam\", \"joe\"):\n",
    "            return Staff()\n",
    "        else:\n",
    "            return Guest()\n",
    "\n",
    "u1 = User(\"emily\")\n",
    "u1.login()"
   ]
  },
  {
   "cell_type": "code",
   "execution_count": 91,
   "id": "684d7ccd",
   "metadata": {},
   "outputs": [
    {
     "name": "stdout",
     "output_type": "stream",
     "text": [
      "<__main__.Connection object at 0x108a972c0> <__main__.Connection object at 0x108a94ce0>\n",
      "Hello\n",
      "Test\n"
     ]
    }
   ],
   "source": [
    "# Abstract Factory Pattern - another example\n",
    "\n",
    "class Connection:\n",
    "    def __init__(self, queue):\n",
    "        self.queue = queue\n",
    "\n",
    "    def send(self, data):\n",
    "        self.queue.append(data)\n",
    "\n",
    "    def recv(self):\n",
    "        return self.queue.popleft()\n",
    "\n",
    "class Pipe:\n",
    "    def __new__(cls):\n",
    "        from collections import deque\n",
    "        queue = deque()\n",
    "        return Connection(queue), Connection(queue)\n",
    "    \n",
    "reader, writer = Pipe()\n",
    "print(reader, writer)\n",
    "\n",
    "writer.send(\"Hello\")\n",
    "writer.send(\"Test\")\n",
    "\n",
    "print(reader.recv())\n",
    "print(reader.recv())"
   ]
  },
  {
   "cell_type": "code",
   "execution_count": null,
   "id": "1e0b3a0d",
   "metadata": {},
   "outputs": [
    {
     "name": "stdout",
     "output_type": "stream",
     "text": [
      "<__main__.Connection object at 0x108d02de0> <__main__.Connection object at 0x108a40bc0>\n",
      "Hello\n",
      "Test\n"
     ]
    }
   ],
   "source": [
    "# Abstract Factory Pattern - another example\n",
    "\n",
    "class Connection:\n",
    "    def __init__(self, queue):\n",
    "        self.queue = queue\n",
    "\n",
    "    def send(self, data):\n",
    "        self.queue.append(data)\n",
    "\n",
    "    def recv(self):\n",
    "        return self.queue.popleft()\n",
    "\n",
    "\n",
    "def pipe():  # Pythonic approach towards implementing Abstract Factory Pattern\n",
    "    from collections import deque\n",
    "    queue = deque()\n",
    "    return Connection(queue), Connection(queue)\n",
    "    \n",
    "reader, writer = pipe()\n",
    "print(reader, writer)\n",
    "\n",
    "writer.send(\"Hello\")\n",
    "writer.send(\"Test\")\n",
    "\n",
    "print(reader.recv())\n",
    "print(reader.recv())"
   ]
  },
  {
   "cell_type": "code",
   "execution_count": 89,
   "id": "f2071598",
   "metadata": {},
   "outputs": [
    {
     "name": "stdout",
     "output_type": "stream",
     "text": [
      "[10, 20, 30, 40] <class 'list'>\n",
      "deque([10, 20, 30, 40]) <class 'collections.deque'>\n"
     ]
    }
   ],
   "source": [
    "a = [10, 20, 30, 40]\n",
    "print(a, type(a))\n",
    "\n",
    "from collections import deque\n",
    "b = deque([10, 20, 30, 40])\n",
    "print(b, type(b))"
   ]
  },
  {
   "cell_type": "code",
   "execution_count": null,
   "id": "d480b189",
   "metadata": {},
   "outputs": [
    {
     "name": "stdout",
     "output_type": "stream",
     "text": [
      "<__main__.World object at 0x108a97bc0> <__main__.World object at 0x108a97bc0>\n",
      "10000000\n"
     ]
    }
   ],
   "source": [
    "# Singleton Borg Pattern\n",
    "class World:\n",
    "    def __new__(cls):\n",
    "        if not hasattr(cls, \"instance\"):\n",
    "            cls.instance = super().__new__(cls)\n",
    "        return cls.instance\n",
    "\n",
    "w1 = World()\n",
    "w2 = World()\n",
    "print(w1, w2)\n",
    "\n",
    "w1.population = 10_000_000\n",
    "print(w2.population)"
   ]
  },
  {
   "cell_type": "markdown",
   "id": "dde6819c",
   "metadata": {},
   "source": [
    "In Python, consider implementing a \"module\" instead of a \n",
    "class to implement singleton Patterns"
   ]
  },
  {
   "cell_type": "code",
   "execution_count": 104,
   "id": "d48fedee",
   "metadata": {},
   "outputs": [
    {
     "name": "stdout",
     "output_type": "stream",
     "text": [
      "HELLO\n"
     ]
    }
   ],
   "source": [
    "a = \"hello\"\n",
    "\n",
    "if hasattr(a, \"upper\"): \n",
    "    print(a.upper())"
   ]
  },
  {
   "cell_type": "code",
   "execution_count": 105,
   "id": "c33c2af9",
   "metadata": {},
   "outputs": [
    {
     "data": {
      "text/plain": [
       "1000000"
      ]
     },
     "execution_count": 105,
     "metadata": {},
     "output_type": "execute_result"
    }
   ],
   "source": [
    "import world\n",
    "\n",
    "world.population"
   ]
  },
  {
   "cell_type": "code",
   "execution_count": 110,
   "id": "7ecf53a2",
   "metadata": {},
   "outputs": [
    {
     "name": "stdout",
     "output_type": "stream",
     "text": [
      "User <__main__.User object at 0x108c08740> created\n",
      "u1 deleted\n",
      "u3 deleted\n",
      "u4 deleted\n",
      "User <__main__.User object at 0x108c08740> is being destroyed.\n",
      "u2 reassigned to 100\n"
     ]
    }
   ],
   "source": [
    "class User:\n",
    "    def __init__(self):\n",
    "        print(f\"User {self} created\")\n",
    "    \n",
    "    def __del__(self):\n",
    "        print(f\"User {self} is being destroyed.\")\n",
    "\n",
    "u1 = User()\n",
    "u2 = u1\n",
    "u3 = u2\n",
    "u4 = u3\n",
    "\n",
    "del u1\n",
    "print(\"u1 deleted\")\n",
    "\n",
    "del u3\n",
    "print(\"u3 deleted\")\n",
    "\n",
    "del u4\n",
    "print(\"u4 deleted\")\n",
    "\n",
    "#del u2\n",
    "#print(\"u2 deleted\")\n",
    "\n",
    "u2 = 100\n",
    "print(\"u2 reassigned to 100\")"
   ]
  },
  {
   "cell_type": "markdown",
   "id": "e81df1b6",
   "metadata": {},
   "source": [
    "### Data Model Methods"
   ]
  },
  {
   "cell_type": "code",
   "execution_count": 120,
   "id": "77092666",
   "metadata": {},
   "outputs": [
    {
     "name": "stdout",
     "output_type": "stream",
     "text": [
      "User(name='Smith')\n",
      "User(name='Sarah')\n"
     ]
    },
    {
     "data": {
      "text/plain": [
       "User(name='Smith')"
      ]
     },
     "execution_count": 120,
     "metadata": {},
     "output_type": "execute_result"
    }
   ],
   "source": [
    "class User:\n",
    "    def __init__(self, name):\n",
    "        self.name = name\n",
    "\n",
    "    def __str1__(self): # Implement \"casual\" string representation\n",
    "        return f\"<User name = {self.name}>\"\n",
    "\n",
    "    def __repr__(self): # Implement \"official\" string representation\n",
    "        return f\"User(name='{self.name}')\"\n",
    "    # Best practice: return a python expression as a string that can\n",
    "    # be used to reconstruct this object.\n",
    "\n",
    "u1 = User(\"Smith\")\n",
    "u2 = User(\"Sarah\")\n",
    "print(u1)  # str(u1)\n",
    "print(u2)\n",
    "u1"
   ]
  },
  {
   "cell_type": "code",
   "execution_count": 115,
   "id": "3f3f73ec",
   "metadata": {},
   "outputs": [
    {
     "name": "stdout",
     "output_type": "stream",
     "text": [
      "100 <class 'int'>\n",
      "100 <class 'str'>\n"
     ]
    }
   ],
   "source": [
    "a = 100\n",
    "print(a, type(a))\n",
    "\n",
    "#b = str(a) \n",
    "b = a.__str__()\n",
    "print(b, type(b))"
   ]
  },
  {
   "cell_type": "code",
   "execution_count": 119,
   "id": "d0dbde99",
   "metadata": {},
   "outputs": [
    {
     "data": {
      "text/plain": [
       "[10, 20, 30, 40]"
      ]
     },
     "execution_count": 119,
     "metadata": {},
     "output_type": "execute_result"
    }
   ],
   "source": [
    "a = [10, 20, 30, 40]\n",
    "a"
   ]
  },
  {
   "cell_type": "code",
   "execution_count": 124,
   "id": "df49fff8",
   "metadata": {},
   "outputs": [
    {
     "name": "stdout",
     "output_type": "stream",
     "text": [
      "<Sensor: name='DHT22'>\n",
      "60\n",
      "28.45\n",
      "True\n"
     ]
    }
   ],
   "source": [
    "class Sensor:\n",
    "    def __init__(self, name):\n",
    "        self.name = name\n",
    "        self.temperature = 28.45\n",
    "        self.humidity = 60\n",
    "        self.active = True\n",
    "\n",
    "    def __str__(self):\n",
    "        return f\"<Sensor: name='{self.name}'>\"\n",
    "    \n",
    "    def __int__(self):\n",
    "        return self.humidity\n",
    "    \n",
    "    def __float__(self):\n",
    "        return self.temperature\n",
    "    \n",
    "    def __bool__(self):\n",
    "        return self.active\n",
    "    \n",
    "s = Sensor(\"DHT22\")\n",
    "print(s)\n",
    "print(int(s))\n",
    "print(float(s))\n",
    "print(bool(s))"
   ]
  },
  {
   "cell_type": "code",
   "execution_count": 130,
   "id": "fc7352b1",
   "metadata": {},
   "outputs": [
    {
     "name": "stdout",
     "output_type": "stream",
     "text": [
      " is evaluated as False\n"
     ]
    }
   ],
   "source": [
    "a = \"\"\n",
    "if a:\n",
    "    print(a, \"is evaluated as True\")\n",
    "else:\n",
    "    print(a, \"is evaluated as False\")\n"
   ]
  },
  {
   "cell_type": "code",
   "execution_count": 132,
   "id": "bb49953e",
   "metadata": {},
   "outputs": [
    {
     "name": "stdout",
     "output_type": "stream",
     "text": [
      "Empty\n"
     ]
    }
   ],
   "source": [
    "#if len(a) == 0:\n",
    "if not a:\n",
    "    print(\"Empty\")"
   ]
  },
  {
   "cell_type": "code",
   "execution_count": 135,
   "id": "ed74e541",
   "metadata": {},
   "outputs": [
    {
     "name": "stdout",
     "output_type": "stream",
     "text": [
      "false\n"
     ]
    },
    {
     "data": {
      "text/plain": [
       "False"
      ]
     },
     "execution_count": 135,
     "metadata": {},
     "output_type": "execute_result"
    }
   ],
   "source": [
    "class User:\n",
    "    def __bool__(self):\n",
    "        return False\n",
    "\n",
    "u = User()\n",
    "if u:\n",
    "    print(\"true\")\n",
    "else:\n",
    "    print(\"false\")\n",
    "\n",
    "bool(u)  "
   ]
  },
  {
   "cell_type": "markdown",
   "id": "fde1ee78",
   "metadata": {},
   "source": [
    "### Operator support for classes\n"
   ]
  },
  {
   "cell_type": "code",
   "execution_count": null,
   "id": "a58dea28",
   "metadata": {},
   "outputs": [
    {
     "name": "stdout",
     "output_type": "stream",
     "text": [
      "Driving a Maruti Suzuki car\n"
     ]
    }
   ],
   "source": [
    "class Car:\n",
    "    def __init__(self, name):\n",
    "        self.name = name\n",
    "\n",
    "    def drive(self):\n",
    "        print(f\"Driving a {self.name} car\")\n",
    "\n",
    "    def __add__(self, other):\n",
    "        return Car(self.name + \" \" + other.name)\n",
    "\n",
    "c1 = Car(\"Maruti\")\n",
    "c2 = Car(\"Suzuki\")\n",
    "\n",
    "c3 = c1 + c2 # c1.__add__(c2) -> Car.__add__(c1, c2)\n",
    "c3.drive()"
   ]
  },
  {
   "cell_type": "code",
   "execution_count": null,
   "id": "ab2341b5",
   "metadata": {},
   "outputs": [],
   "source": [
    "# %load https://tinyurl.com/fract-ex\n",
    "\"\"\"\n",
    "Implement the Fraction class below passing all\n",
    "the test cases in the doc-tests.\n",
    "\n",
    "    >>> a = Fraction(1, 2)\n",
    "    >>> b = Fraction(\"1/4\")\n",
    "    >>> print(a)\n",
    "    1/2\n",
    "    >>> print(b)\n",
    "    1/4\n",
    "    >>> print(a + b)\n",
    "    3/4\n",
    "    >>> print(a - b)\n",
    "    1/4\n",
    "    >>> print(a * b)\n",
    "    1/8\n",
    "    >>> print(a / b)\n",
    "    2/1\n",
    "    >>> float(a)\n",
    "    0.5\n",
    "    >>> float(b)\n",
    "    0.25\n",
    "    >>> c = Fraction(33, 99)\n",
    "    >>> print(c)\n",
    "    1/3\n",
    "    \n",
    "\"\"\"\n",
    "class Fraction:\n",
    "    \"\"\"\n",
    "    This class implements fractional numbers.\n",
    "    If instantiated with two arguments in the constructor\n",
    "    expression, each argument must be an integer representing\n",
    "    the numerator and the denominator. If the constructor\n",
    "    expession is passed with single argument, then the argument\n",
    "    must be a string of the form \"n/d\" when n represents numerator\n",
    "    and d represents denominator.\n",
    "\n",
    "    For example:  \n",
    "        >>> a = Fraction(1, 2) # Create a fraction 1/2\n",
    "        >>> b = Fraction(\"1/4\") # Create a fraction 1/4\n",
    "        >>> c = a + b   # Add the two fractions\n",
    "        >>> print(c)    # Print the string representation of c\n",
    "        3/4\n",
    "        >>> a > b\n",
    "        True\n",
    "        >>> c == b\n",
    "        False\n",
    "\n",
    "\n",
    "    \"\"\"\n",
    "    pass\n",
    "\n",
    "if __name__ == '__main__':\n",
    "    import doctest\n",
    "    doctest.testmod()\n",
    "\n"
   ]
  },
  {
   "cell_type": "markdown",
   "id": "75efbbae",
   "metadata": {},
   "source": [
    "### Iterables and the Iterator Protocol"
   ]
  },
  {
   "cell_type": "code",
   "execution_count": 145,
   "id": "f63eaf7c",
   "metadata": {},
   "outputs": [
    {
     "name": "stdout",
     "output_type": "stream",
     "text": [
      "11\n",
      "22\n",
      "33\n",
      "44\n"
     ]
    }
   ],
   "source": [
    "a = [11, 22, 33, 44]\n",
    "#a = \"Hello\"\n",
    "#a = {22, 33, 44, 55, 66}\n",
    "#a = {\"name\": \"John\", \"role\": \"Admin\", \"dept\": \"IT\"}\n",
    "\n",
    "#for v in a:\n",
    "#    print(v)\n",
    "\n",
    "iterator = iter(a)\n",
    "try:\n",
    "    while True:\n",
    "        v = next(iterator)\n",
    "        # Body of the 'for' loop\n",
    "        print(v)\n",
    "except StopIteration:\n",
    "    pass"
   ]
  },
  {
   "cell_type": "code",
   "execution_count": 150,
   "id": "9f12d346",
   "metadata": {},
   "outputs": [
    {
     "data": {
      "text/plain": [
       "<list_iterator at 0x108a78040>"
      ]
     },
     "execution_count": 150,
     "metadata": {},
     "output_type": "execute_result"
    }
   ],
   "source": [
    "a = [11, 22, 33, 44]\n",
    "iterator = iter(a)  # a.__iter__()\n",
    "\n",
    "# An object that returns some kind of \"iterator\" when passed to the iter() function\n",
    "# is an iterable object.\n",
    "\n",
    "iterator"
   ]
  },
  {
   "cell_type": "code",
   "execution_count": null,
   "id": "ac207cd1",
   "metadata": {},
   "outputs": [
    {
     "ename": "StopIteration",
     "evalue": "",
     "output_type": "error",
     "traceback": [
      "\u001b[31m---------------------------------------------------------------------------\u001b[39m",
      "\u001b[31mStopIteration\u001b[39m                             Traceback (most recent call last)",
      "\u001b[36mCell\u001b[39m\u001b[36m \u001b[39m\u001b[32mIn[155]\u001b[39m\u001b[32m, line 2\u001b[39m\n\u001b[32m      1\u001b[39m \u001b[38;5;66;03m# Iterators are objects that return an item when passed to the next() function\u001b[39;00m\n\u001b[32m----> \u001b[39m\u001b[32m2\u001b[39m \u001b[38;5;28;43mnext\u001b[39;49m\u001b[43m(\u001b[49m\u001b[43miterator\u001b[49m\u001b[43m)\u001b[49m\n",
      "\u001b[31mStopIteration\u001b[39m: "
     ]
    }
   ],
   "source": [
    "# Iterators are objects that return an item when passed to the next() function\n",
    "next(iterator) # iterator.__next__()"
   ]
  },
  {
   "cell_type": "code",
   "execution_count": null,
   "id": "81ae20c8",
   "metadata": {},
   "outputs": [],
   "source": [
    "# Iterator Protocol\n",
    "# Also implements a Generator Pattern\n",
    "\n",
    "class SquareNumberIterator: # Iterator\n",
    "    def __init__(self, iterable):\n",
    "        self.iterable = iterable\n",
    "        self.i = 0\n",
    "        self.limit = self.iterable.limit\n",
    "\n",
    "    def __next__(self):\n",
    "        if self.i >= self.limit:\n",
    "            raise StopIteration()\n",
    "        v = self.i*self.i\n",
    "        self.i += 1\n",
    "        return v\n",
    "\n",
    "class SquareNumbers: # Iterable\n",
    "    def __init__(self, limit):\n",
    "        self.limit = limit\n",
    "\n",
    "    def __iter__(self):\n",
    "        return SquareNumberIterator(self)\n",
    "    "
   ]
  },
  {
   "cell_type": "code",
   "execution_count": 158,
   "id": "51453ead",
   "metadata": {},
   "outputs": [
    {
     "name": "stdout",
     "output_type": "stream",
     "text": [
      "0 1 4 9 16 25 36 49 64 81 100 121 144 169 196 225 256 289 324 361 "
     ]
    }
   ],
   "source": [
    "s = SquareNumbers(20)\n",
    "\n",
    "for i in s:\n",
    "    print(i, end=\" \")"
   ]
  },
  {
   "cell_type": "code",
   "execution_count": 160,
   "id": "07613ab4",
   "metadata": {},
   "outputs": [
    {
     "data": {
      "text/plain": [
       "<__main__.SquareNumberIterator at 0x108c65af0>"
      ]
     },
     "execution_count": 160,
     "metadata": {},
     "output_type": "execute_result"
    }
   ],
   "source": [
    "s = SquareNumbers(5)\n",
    "iterator = iter(s)\n",
    "iterator"
   ]
  },
  {
   "cell_type": "code",
   "execution_count": 166,
   "id": "b6a99ce7",
   "metadata": {},
   "outputs": [
    {
     "ename": "StopIteration",
     "evalue": "",
     "output_type": "error",
     "traceback": [
      "\u001b[31m---------------------------------------------------------------------------\u001b[39m",
      "\u001b[31mStopIteration\u001b[39m                             Traceback (most recent call last)",
      "\u001b[36mCell\u001b[39m\u001b[36m \u001b[39m\u001b[32mIn[166]\u001b[39m\u001b[32m, line 1\u001b[39m\n\u001b[32m----> \u001b[39m\u001b[32m1\u001b[39m \u001b[38;5;28;43mnext\u001b[39;49m\u001b[43m(\u001b[49m\u001b[43miterator\u001b[49m\u001b[43m)\u001b[49m\n",
      "\u001b[36mCell\u001b[39m\u001b[36m \u001b[39m\u001b[32mIn[156]\u001b[39m\u001b[32m, line 9\u001b[39m, in \u001b[36mSquareNumberIterator.__next__\u001b[39m\u001b[34m(self)\u001b[39m\n\u001b[32m      7\u001b[39m \u001b[38;5;28;01mdef\u001b[39;00m\u001b[38;5;250m \u001b[39m\u001b[34m__next__\u001b[39m(\u001b[38;5;28mself\u001b[39m):\n\u001b[32m      8\u001b[39m     \u001b[38;5;28;01mif\u001b[39;00m \u001b[38;5;28mself\u001b[39m.i >= \u001b[38;5;28mself\u001b[39m.limit:\n\u001b[32m----> \u001b[39m\u001b[32m9\u001b[39m         \u001b[38;5;28;01mraise\u001b[39;00m \u001b[38;5;167;01mStopIteration\u001b[39;00m()\n\u001b[32m     10\u001b[39m     v = \u001b[38;5;28mself\u001b[39m.i*\u001b[38;5;28mself\u001b[39m.i\n\u001b[32m     11\u001b[39m     \u001b[38;5;28mself\u001b[39m.i += \u001b[32m1\u001b[39m\n",
      "\u001b[31mStopIteration\u001b[39m: "
     ]
    }
   ],
   "source": [
    "next(iterator)"
   ]
  },
  {
   "cell_type": "markdown",
   "id": "79cab107",
   "metadata": {},
   "source": [
    "### Properties of a Python collection / container (Duck typing)\n",
    " 1. Searchability (membership) -> 'item in object' must True/False\n",
    " 2. Length -> 'len(x)' must return a positive integer\n",
    " 3. Iterability -> 'iter(x)' must return an iterator\n"
   ]
  },
  {
   "cell_type": "code",
   "execution_count": 169,
   "id": "9e3f39c2",
   "metadata": {},
   "outputs": [
    {
     "name": "stdout",
     "output_type": "stream",
     "text": [
      "True\n",
      "5\n",
      "<str_ascii_iterator object at 0x108c19450>\n"
     ]
    }
   ],
   "source": [
    "a = \"hello\"\n",
    "print(\"e\" in a)\n",
    "print(len(a))\n",
    "print(iter(a))\n"
   ]
  },
  {
   "cell_type": "markdown",
   "id": "fe464e59",
   "metadata": {},
   "source": [
    "for i in range(1_000_000):\n",
    "    print(i)"
   ]
  },
  {
   "cell_type": "code",
   "execution_count": 173,
   "id": "ccfa5532",
   "metadata": {},
   "outputs": [
    {
     "name": "stdout",
     "output_type": "stream",
     "text": [
      "range(0, 10) <class 'range'>\n",
      "<range_iterator object at 0x108d08510>\n",
      "10\n",
      "True\n"
     ]
    }
   ],
   "source": [
    "r = range(10)\n",
    "print(r, type(r))\n",
    "print(iter(r))\n",
    "print(len(r))\n",
    "print(5 in r)"
   ]
  },
  {
   "cell_type": "code",
   "execution_count": null,
   "id": "71955968",
   "metadata": {},
   "outputs": [
    {
     "name": "stdout",
     "output_type": "stream",
     "text": [
      "10 False\n",
      "0 1 2 3 4 5 6 7 8 9 "
     ]
    },
    {
     "ename": "IndexError",
     "evalue": "40",
     "output_type": "error",
     "traceback": [
      "\u001b[31m---------------------------------------------------------------------------\u001b[39m",
      "\u001b[31mIndexError\u001b[39m                                Traceback (most recent call last)",
      "\u001b[36mCell\u001b[39m\u001b[36m \u001b[39m\u001b[32mIn[187]\u001b[39m\u001b[32m, line 37\u001b[39m\n\u001b[32m     34\u001b[39m \u001b[38;5;28;01mfor\u001b[39;00m v \u001b[38;5;129;01min\u001b[39;00m r:\n\u001b[32m     35\u001b[39m     \u001b[38;5;28mprint\u001b[39m(v, end=\u001b[33m\"\u001b[39m\u001b[33m \u001b[39m\u001b[33m\"\u001b[39m)\n\u001b[32m---> \u001b[39m\u001b[32m37\u001b[39m \u001b[43mr\u001b[49m\u001b[43m[\u001b[49m\u001b[32;43m40\u001b[39;49m\u001b[43m]\u001b[49m\n",
      "\u001b[36mCell\u001b[39m\u001b[36m \u001b[39m\u001b[32mIn[187]\u001b[39m\u001b[32m, line 30\u001b[39m, in \u001b[36mRange.__getitem__\u001b[39m\u001b[34m(self, index)\u001b[39m\n\u001b[32m     28\u001b[39m     \u001b[38;5;28;01mreturn\u001b[39;00m index\n\u001b[32m     29\u001b[39m \u001b[38;5;28;01melse\u001b[39;00m:\n\u001b[32m---> \u001b[39m\u001b[32m30\u001b[39m     \u001b[38;5;28;01mraise\u001b[39;00m \u001b[38;5;167;01mIndexError\u001b[39;00m(\u001b[33mf\u001b[39m\u001b[33m\"\u001b[39m\u001b[38;5;132;01m{\u001b[39;00mindex\u001b[38;5;132;01m}\u001b[39;00m\u001b[33m\"\u001b[39m)\n",
      "\u001b[31mIndexError\u001b[39m: 40"
     ]
    }
   ],
   "source": [
    "class RangeIterator:\n",
    "    def __init__(self, start, stop, step):\n",
    "        self.start, self.stop, self.step = start, stop, step\n",
    "\n",
    "    def __next__(self):\n",
    "        if self.start >= self.stop:\n",
    "            raise StopIteration()\n",
    "        v = self.start\n",
    "        self.start += 1\n",
    "        return v\n",
    "    \n",
    "class Range:\n",
    "    def __init__(self, stop): # Exercise, implement support for start, stop, step to mimic the builtin range()\n",
    "        self.start, self.stop, self.step = 0, stop, 1\n",
    "\n",
    "    def __iter__(self):\n",
    "        return RangeIterator(self.start, self.stop, self.step)\n",
    "    \n",
    "    def __len__(self):     # len(r)\n",
    "        return self.stop\n",
    "    \n",
    "    def __contains__(self, item):  # 5 in r -> r.__contains__(5) -> Range.__contains__(r, 5)\n",
    "        return self.start <= item <= self.stop\n",
    "        # return (item >= self.start) and (item <= self.stop)\n",
    "    \n",
    "    def __getitem__(self, index):\n",
    "        if index in self:\n",
    "            return index\n",
    "        else:\n",
    "            raise IndexError(f\"{index}\")\n",
    "        \n",
    "r = Range(10)\n",
    "print(len(r), 61 in r)\n",
    "for v in r:\n",
    "    print(v, end=\" \")\n",
    "    \n",
    "#r[40]"
   ]
  },
  {
   "cell_type": "code",
   "execution_count": 181,
   "id": "faf7572e",
   "metadata": {},
   "outputs": [
    {
     "name": "stdout",
     "output_type": "stream",
     "text": [
      "4 True\n",
      "44 333 2222 111 "
     ]
    }
   ],
   "source": [
    "a = {111, 2222, 333, 44}\n",
    "#a[0]\n",
    "print(len(a), 333 in a)\n",
    "for v in a:\n",
    "    print(v, end=\" \")"
   ]
  },
  {
   "cell_type": "code",
   "execution_count": 183,
   "id": "a5316a2c",
   "metadata": {},
   "outputs": [
    {
     "data": {
      "text/plain": [
       "16"
      ]
     },
     "execution_count": 183,
     "metadata": {},
     "output_type": "execute_result"
    }
   ],
   "source": [
    "r = range(10, 20, 2)\n",
    "r[3]"
   ]
  },
  {
   "cell_type": "code",
   "execution_count": 190,
   "id": "89fb9b4a",
   "metadata": {},
   "outputs": [
    {
     "name": "stdout",
     "output_type": "stream",
     "text": [
      "Start of testfn...\n"
     ]
    },
    {
     "data": {
      "text/plain": [
       "100"
      ]
     },
     "execution_count": 190,
     "metadata": {},
     "output_type": "execute_result"
    }
   ],
   "source": [
    "def testfn():\n",
    "    print(\"Start of testfn...\")\n",
    "    return 100\n",
    "    print(\"Back inside testfn...\")\n",
    "\n",
    "testfn()"
   ]
  },
  {
   "cell_type": "code",
   "execution_count": 193,
   "id": "3187cd1e",
   "metadata": {},
   "outputs": [
    {
     "data": {
      "text/plain": [
       "<generator object testfn at 0x10cc10a00>"
      ]
     },
     "execution_count": 193,
     "metadata": {},
     "output_type": "execute_result"
    }
   ],
   "source": [
    "def testfn():\n",
    "    print(\"Start of testfn...\")\n",
    "    yield 100\n",
    "    print(\"Back inside testfn...\")\n",
    "    yield \"hello\"\n",
    "    print(\"Back again inside testfn...\")\n",
    "    yield\n",
    "    print(\"End of testfn...\")\n",
    "\n",
    "g = testfn()\n",
    "g"
   ]
  },
  {
   "cell_type": "code",
   "execution_count": 198,
   "id": "c29149f9",
   "metadata": {},
   "outputs": [
    {
     "name": "stdout",
     "output_type": "stream",
     "text": [
      "End of testfn...\n"
     ]
    },
    {
     "ename": "StopIteration",
     "evalue": "",
     "output_type": "error",
     "traceback": [
      "\u001b[31m---------------------------------------------------------------------------\u001b[39m",
      "\u001b[31mStopIteration\u001b[39m                             Traceback (most recent call last)",
      "\u001b[36mCell\u001b[39m\u001b[36m \u001b[39m\u001b[32mIn[198]\u001b[39m\u001b[32m, line 1\u001b[39m\n\u001b[32m----> \u001b[39m\u001b[32m1\u001b[39m \u001b[38;5;28;43mnext\u001b[39;49m\u001b[43m(\u001b[49m\u001b[43mg\u001b[49m\u001b[43m)\u001b[49m\n",
      "\u001b[31mStopIteration\u001b[39m: "
     ]
    }
   ],
   "source": [
    "next(g)"
   ]
  },
  {
   "cell_type": "code",
   "execution_count": 199,
   "id": "4346d17d",
   "metadata": {},
   "outputs": [
    {
     "name": "stdout",
     "output_type": "stream",
     "text": [
      "0 1 1 2 3 5 8 13 21 34 "
     ]
    }
   ],
   "source": [
    "def fib(n):\n",
    "    a, b = 0, 1\n",
    "    for i in range(n):\n",
    "        print(a, end=\" \")\n",
    "        a, b = b, a + b\n",
    "\n",
    "fib(10)"
   ]
  },
  {
   "cell_type": "code",
   "execution_count": 202,
   "id": "cdc064b2",
   "metadata": {},
   "outputs": [
    {
     "name": "stdout",
     "output_type": "stream",
     "text": [
      "0 0\n",
      "1 1\n",
      "1 1\n",
      "2 4\n",
      "3 9\n",
      "5 25\n",
      "8 64\n",
      "13 169\n",
      "21 441\n",
      "34 1156\n"
     ]
    }
   ],
   "source": [
    "from time import sleep\n",
    "\n",
    "def fib_list(n):\n",
    "    series = [0, 1]\n",
    "    for i in range(n-2):\n",
    "        series.append(series[-1] + series[-2])\n",
    "        sleep(1)\n",
    "    return series\n",
    "\n",
    "for v in fib_list(10):\n",
    "    print(v, v*v)"
   ]
  },
  {
   "cell_type": "code",
   "execution_count": null,
   "id": "3189ec92",
   "metadata": {},
   "outputs": [],
   "source": []
  },
  {
   "cell_type": "code",
   "execution_count": null,
   "id": "11c642c1",
   "metadata": {},
   "outputs": [
    {
     "name": "stdout",
     "output_type": "stream",
     "text": [
      "0 0\n",
      "1 1\n",
      "1 1\n",
      "2 4\n",
      "3 9\n",
      "5 25\n",
      "8 64\n",
      "13 169\n",
      "21 441\n",
      "34 1156\n"
     ]
    }
   ],
   "source": [
    "# A clean pythonic implementation of a generator pattern\n",
    "from time import sleep\n",
    "\n",
    "def fib_gen(n):\n",
    "    a, b = 0, 1\n",
    "    for i in range(n):\n",
    "        yield a\n",
    "        a, b = b, a + b\n",
    "        sleep(1)\n",
    "\n",
    "for v in fib_gen(10):\n",
    "    print(v, v*v)"
   ]
  }
 ],
 "metadata": {
  "kernelspec": {
   "display_name": "Python 3",
   "language": "python",
   "name": "python3"
  },
  "language_info": {
   "codemirror_mode": {
    "name": "ipython",
    "version": 3
   },
   "file_extension": ".py",
   "mimetype": "text/x-python",
   "name": "python",
   "nbconvert_exporter": "python",
   "pygments_lexer": "ipython3",
   "version": "3.12.11"
  }
 },
 "nbformat": 4,
 "nbformat_minor": 5
}
