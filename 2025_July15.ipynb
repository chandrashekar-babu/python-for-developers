{
 "cells": [
  {
   "cell_type": "markdown",
   "id": "1fa7222f",
   "metadata": {},
   "source": [
    "## Python For Developers - Day 2\n",
    "\n",
    "#### Advanced OOP Features and Design Patterns"
   ]
  },
  {
   "cell_type": "code",
   "execution_count": 2,
   "id": "87937182",
   "metadata": {},
   "outputs": [],
   "source": [
    "class Person:\n",
    "    species = \"Homo Sapiens\"\n",
    "    count = 0\n",
    "\n",
    "    def __init__(self, name=\"guest\"):\n",
    "        self.name = name\n",
    "\n",
    "p1 = Person(\"john\")\n",
    "p2 = Person(\"claire\")\n",
    "\n",
    "p3 = Person()"
   ]
  },
  {
   "cell_type": "code",
   "execution_count": 5,
   "id": "b93a50ef",
   "metadata": {},
   "outputs": [
    {
     "name": "stdout",
     "output_type": "stream",
     "text": [
      "John says 'Welcome to Mumbai!'\n"
     ]
    },
    {
     "ename": "TypeError",
     "evalue": "Person.greet() missing 1 required positional argument: 'place'",
     "output_type": "error",
     "traceback": [
      "\u001b[31m---------------------------------------------------------------------------\u001b[39m",
      "\u001b[31mTypeError\u001b[39m                                 Traceback (most recent call last)",
      "\u001b[36mCell\u001b[39m\u001b[36m \u001b[39m\u001b[32mIn[5]\u001b[39m\u001b[32m, line 13\u001b[39m\n\u001b[32m     11\u001b[39m p = Person(\u001b[33m\"\u001b[39m\u001b[33mJohn\u001b[39m\u001b[33m\"\u001b[39m)\n\u001b[32m     12\u001b[39m p.greet(\u001b[33m\"\u001b[39m\u001b[33mMumbai\u001b[39m\u001b[33m\"\u001b[39m)\n\u001b[32m---> \u001b[39m\u001b[32m13\u001b[39m \u001b[43mp\u001b[49m\u001b[43m.\u001b[49m\u001b[43mgreet\u001b[49m\u001b[43m(\u001b[49m\u001b[43m)\u001b[49m\n",
      "\u001b[31mTypeError\u001b[39m: Person.greet() missing 1 required positional argument: 'place'"
     ]
    }
   ],
   "source": [
    "class Person:\n",
    "    def __init__(self, name):\n",
    "        self.name = name\n",
    "\n",
    "    def greet(self):\n",
    "        print(f\"{self.name} says 'Hi'\")\n",
    "\n",
    "    def greet(self, place):\n",
    "        print(f\"{self.name} says 'Welcome to {place}!'\")\n",
    "\n",
    "p = Person(\"John\")\n",
    "p.greet(\"Mumbai\")\n",
    "p.greet()"
   ]
  },
  {
   "cell_type": "code",
   "execution_count": 12,
   "id": "a1973581",
   "metadata": {},
   "outputs": [
    {
     "name": "stdout",
     "output_type": "stream",
     "text": [
      "John says 'Welcome to Mumbai!'\n",
      "John says 'Hi!\n"
     ]
    }
   ],
   "source": [
    "class Person:\n",
    "    def __init__(self, name):\n",
    "        self.name = name\n",
    "\n",
    "    def greet(self, place=None):\n",
    "        if place is None:\n",
    "            print(f\"{self.name} says 'Hi!\")\n",
    "        else:\n",
    "            print(f\"{self.name} says 'Welcome to {place}!'\")\n",
    "\n",
    "p = Person(\"John\")\n",
    "p.greet(\"Mumbai\")\n",
    "p.greet()"
   ]
  },
  {
   "cell_type": "code",
   "execution_count": 7,
   "id": "5b44d6b9",
   "metadata": {},
   "outputs": [
    {
     "name": "stdout",
     "output_type": "stream",
     "text": [
      "100\n",
      "Hello world\n"
     ]
    }
   ],
   "source": [
    "a = 100\n",
    "print(a)\n",
    "a = \"Hello world\"\n",
    "print(a)"
   ]
  },
  {
   "cell_type": "code",
   "execution_count": 11,
   "id": "1b1a325a",
   "metadata": {},
   "outputs": [
    {
     "name": "stdout",
     "output_type": "stream",
     "text": [
      "Hello John\n"
     ]
    }
   ],
   "source": [
    "def greet():\n",
    "    print(\"greetings\")\n",
    "\n",
    "def greet(u):\n",
    "    print(\"Hello\", u)\n",
    "\n",
    "greet(\"John\")"
   ]
  },
  {
   "cell_type": "markdown",
   "id": "d2b1d79a",
   "metadata": {},
   "source": [
    "### Instance methods vs Class methods\n",
    "\n",
    "Instance methods are methods that we invoke on instances of classes. \n",
    "These methods can access both instance attributes and class attributes\n",
    "\n",
    "Class methods however, are methods that we can invoke on both classes and instances.\n",
    "These methods can only access class attributes"
   ]
  },
  {
   "cell_type": "code",
   "execution_count": 16,
   "id": "c2dbcdae",
   "metadata": {},
   "outputs": [
    {
     "name": "stdout",
     "output_type": "stream",
     "text": [
      "red red\n",
      "Color is red\n",
      "red green\n"
     ]
    }
   ],
   "source": [
    "class Car:\n",
    "    color = \"red\"\n",
    "\n",
    "    def show_color(self):\n",
    "        print(\"Color is\", self.color)\n",
    "\n",
    "    def change_color(self, new_color):\n",
    "        self.color = new_color\n",
    "\n",
    "c = Car()\n",
    "print(Car.color, c.color)\n",
    "c.show_color()\n",
    "c.change_color(\"green\")\n",
    "print(Car.color, c.color)"
   ]
  },
  {
   "cell_type": "code",
   "execution_count": null,
   "id": "6f9c9eb2",
   "metadata": {},
   "outputs": [
    {
     "name": "stdout",
     "output_type": "stream",
     "text": [
      "red red\n",
      "Color is red\n",
      "Color is green\n",
      "green green\n"
     ]
    }
   ],
   "source": [
    "class Car:\n",
    "    color = \"red\"\n",
    "\n",
    "    def show_color(self):\n",
    "        print(\"Color is\", self.color)\n",
    "\n",
    "    def change_color(self, new_color):\n",
    "        Car.color = new_color\n",
    "\n",
    "c = Car()\n",
    "print(Car.color, c.color)\n",
    "c.show_color()\n",
    "c.change_color(\"green\")\n",
    "c.show_color()\n",
    "print(Car.color, c.color)"
   ]
  },
  {
   "cell_type": "code",
   "execution_count": 19,
   "id": "6f2b0f79",
   "metadata": {},
   "outputs": [
    {
     "name": "stdout",
     "output_type": "stream",
     "text": [
      "red red\n",
      "Color is red\n",
      "Color is green\n",
      "green green\n"
     ]
    }
   ],
   "source": [
    "class Car:\n",
    "    color = \"red\"\n",
    "\n",
    "    def show_color(self):\n",
    "        print(\"Color is\", self.color)\n",
    "\n",
    "    @classmethod\n",
    "    def change_color(cls, new_color):\n",
    "        cls.color = new_color\n",
    "\n",
    "c = Car()\n",
    "print(Car.color, c.color)\n",
    "c.show_color()\n",
    "c.change_color(\"green\")\n",
    "c.show_color()\n",
    "print(Car.color, c.color)"
   ]
  },
  {
   "cell_type": "code",
   "execution_count": 25,
   "id": "1d70c402",
   "metadata": {},
   "outputs": [
    {
     "name": "stdout",
     "output_type": "stream",
     "text": [
      "<__main__.Car object at 0x108c090a0>\n",
      "s = <__main__.Car object at 0x108c090a0>\n",
      "s = <class '__main__.Car'>\n",
      "<class '__main__.Car'>\n",
      "s = <class '__main__.Car'>\n"
     ]
    },
    {
     "ename": "TypeError",
     "evalue": "Car.drive() missing 1 required positional argument: 's'",
     "output_type": "error",
     "traceback": [
      "\u001b[31m---------------------------------------------------------------------------\u001b[39m",
      "\u001b[31mTypeError\u001b[39m                                 Traceback (most recent call last)",
      "\u001b[36mCell\u001b[39m\u001b[36m \u001b[39m\u001b[32mIn[25]\u001b[39m\u001b[32m, line 16\u001b[39m\n\u001b[32m     13\u001b[39m \u001b[38;5;28mprint\u001b[39m(Car)\n\u001b[32m     15\u001b[39m Car.drive2()\n\u001b[32m---> \u001b[39m\u001b[32m16\u001b[39m \u001b[43mCar\u001b[49m\u001b[43m.\u001b[49m\u001b[43mdrive\u001b[49m\u001b[43m(\u001b[49m\u001b[43m)\u001b[49m\n",
      "\u001b[31mTypeError\u001b[39m: Car.drive() missing 1 required positional argument: 's'"
     ]
    }
   ],
   "source": [
    "class Car:\n",
    "    def drive(s):\n",
    "        print(\"s =\", s)\n",
    "\n",
    "    @classmethod\n",
    "    def drive2(s):\n",
    "        print(\"s =\", s)\n",
    "\n",
    "c = Car()\n",
    "print(c)\n",
    "c.drive()\n",
    "c.drive2()\n",
    "print(Car)\n",
    "\n",
    "Car.drive2()\n",
    "Car.drive()"
   ]
  },
  {
   "cell_type": "code",
   "execution_count": 30,
   "id": "e50ade60",
   "metadata": {},
   "outputs": [
    {
     "name": "stdout",
     "output_type": "stream",
     "text": [
      "Created a new car object\n",
      "Created a new car object\n",
      "Created a new car object\n"
     ]
    },
    {
     "data": {
      "text/plain": [
       "3"
      ]
     },
     "execution_count": 30,
     "metadata": {},
     "output_type": "execute_result"
    }
   ],
   "source": [
    "class Car:\n",
    "    count = 0\n",
    "\n",
    "    @classmethod\n",
    "    def inc_count(cls):\n",
    "        cls.count += 1 \n",
    "\n",
    "    def __init__(self):\n",
    "        self.inc_count()\n",
    "        print(\"Created a new car object\")\n",
    "\n",
    "c1 = Car()\n",
    "c2 = Car()\n",
    "c3 = Car()\n",
    "\n",
    "Car.count\n"
   ]
  },
  {
   "cell_type": "code",
   "execution_count": 33,
   "id": "4b42fe6a",
   "metadata": {},
   "outputs": [
    {
     "name": "stdout",
     "output_type": "stream",
     "text": [
      "15 7 2025\n",
      "15 7 2025\n",
      "15 7 2025\n"
     ]
    }
   ],
   "source": [
    "class Date:\n",
    "    def __init__(self, day, month, year):\n",
    "        self.day = day\n",
    "        self.month = month\n",
    "        self.year = year\n",
    "    \n",
    "    @classmethod\n",
    "    def from_string(cls, date_string):\n",
    "        \"\"\"Alternative constructor \n",
    "           from string YYYY-MM-DD\"\"\"\n",
    "        year, month, day = \\\n",
    "           map(int, date_string.split('-'))\n",
    "        return cls(day, month, year)\n",
    "    \n",
    "    @classmethod\n",
    "    def today(cls):\n",
    "        \"\"\"Factory method for current date\"\"\"\n",
    "        import datetime\n",
    "        now = datetime.datetime.now()\n",
    "        return cls(now.day, now.month, now.year)\n",
    "    \n",
    "# Using class methods\n",
    "\n",
    "date1 = Date(15, 7, 2025)\n",
    "print(date1.day, date1.month, date1.year)\n",
    "\n",
    "date2 = Date.from_string(\"2025-07-15\")\n",
    "print(date2.day, date2.month, date2.year)\n",
    "\n",
    "date3 = Date.today()\n",
    "print(date3.day, date3.month, date3.year)\n",
    "\n"
   ]
  },
  {
   "cell_type": "code",
   "execution_count": 36,
   "id": "15c8880c",
   "metadata": {},
   "outputs": [
    {
     "data": {
      "text/plain": [
       "4"
      ]
     },
     "execution_count": 36,
     "metadata": {},
     "output_type": "execute_result"
    }
   ],
   "source": [
    "class MathUtils:\n",
    "\n",
    "    @staticmethod\n",
    "    def square(x):\n",
    "        return x*x\n",
    "    \n",
    "MathUtils.square(2)\n",
    "\n",
    "m = MathUtils()\n",
    "m.square(2)"
   ]
  },
  {
   "cell_type": "markdown",
   "id": "e7f440df",
   "metadata": {},
   "source": [
    "### Functions can be broadly classified as:\n",
    "  1. \"Pure\" Functions\n",
    "  2. Functions with \"side-effects\""
   ]
  },
  {
   "cell_type": "code",
   "execution_count": null,
   "id": "fd67778a",
   "metadata": {},
   "outputs": [
    {
     "data": {
      "text/plain": [
       "6084"
      ]
     },
     "execution_count": 37,
     "metadata": {},
     "output_type": "execute_result"
    }
   ],
   "source": [
    "def square(x):  # This is an example of a pure function\n",
    "    return x*x\n",
    "\n",
    "# Pure functions do not modify any state outside their local-scope. They do not \n",
    "# carry-forward states across calls.\n",
    "\n",
    "square(2)\n",
    "square(3)\n",
    "square(78)"
   ]
  },
  {
   "cell_type": "code",
   "execution_count": null,
   "id": "b7fb5979",
   "metadata": {},
   "outputs": [
    {
     "data": {
      "text/plain": [
       "[4, 16, 289]"
      ]
     },
     "execution_count": 38,
     "metadata": {},
     "output_type": "execute_result"
    }
   ],
   "source": [
    "squares = []\n",
    "\n",
    "def square(x):  # An example of a function with side-effects\n",
    "    squares.append(x*x)\n",
    "    return x*x\n",
    "\n",
    "square(2)\n",
    "square(4)\n",
    "square(17)\n",
    "squares"
   ]
  },
  {
   "cell_type": "code",
   "execution_count": 40,
   "id": "ab8c805d",
   "metadata": {},
   "outputs": [
    {
     "name": "stdout",
     "output_type": "stream",
     "text": [
      "data=[3, 6, 1, 8], r=[9, 36, 1, 64]\n",
      "data=[9, 36, 1, 64]\n"
     ]
    }
   ],
   "source": [
    "def square_list(nums): # Another example of a \"pure\" function\n",
    "    result = []\n",
    "    for v in nums:\n",
    "        result.append(v*v)\n",
    "    return result\n",
    "\n",
    "def square_list2(nums): # Another example of function with side-effects\n",
    "    for i, v in enumerate(nums):\n",
    "        nums[i] = v*v\n",
    "\n",
    "data = [3, 6, 1, 8]\n",
    "r = square_list(data)  # An example of a 'map' operation\n",
    "print(f\"{data=}, {r=}\")\n",
    "\n",
    "square_list2(data)\n",
    "print(f\"{data=}\")"
   ]
  }
 ],
 "metadata": {
  "kernelspec": {
   "display_name": "Python 3",
   "language": "python",
   "name": "python3"
  },
  "language_info": {
   "codemirror_mode": {
    "name": "ipython",
    "version": 3
   },
   "file_extension": ".py",
   "mimetype": "text/x-python",
   "name": "python",
   "nbconvert_exporter": "python",
   "pygments_lexer": "ipython3",
   "version": "3.12.11"
  }
 },
 "nbformat": 4,
 "nbformat_minor": 5
}
