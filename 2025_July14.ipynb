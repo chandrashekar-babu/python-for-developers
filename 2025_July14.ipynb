{
 "cells": [
  {
   "cell_type": "markdown",
   "id": "b84fc725",
   "metadata": {},
   "source": [
    "# Python For Developers\n",
    "### Day 1: Python Fundamentals - Deep Drive\n",
    "\n",
    "- A Quick Refresher on Core Python Concepts\n",
    "- Python Classes, Objects and OOP\n",
    "- Data Model Methods (\"Dunder Methods\")\n",
    "- Advanced OOP features overview (meta-clases, ABCs, etc...)"
   ]
  },
  {
   "cell_type": "markdown",
   "id": "79658a4c",
   "metadata": {},
   "source": [
    "### A Quick Refresher on Core Python Concepts\n",
    " - A high-level \"General-purpose\" programming language\n",
    " - Compiled + Interpreted Programming language\n",
    " - Python is a \"pure\" Object Oriented Programming language by design\n",
    " - Python allows multi-paradigm programming\n",
    "    - Scripts (for quick automation)\n",
    "    - Procedural programming\n",
    "    - Modular programming\n",
    "    - OOP \n",
    "    - AOP patterns\n",
    "    - Functional programming\n",
    "    - Concurrent programming\n",
    " - Easy to get started and provides a smooth learning curve\n",
    " - A Fully \"dynamic\" programming language\n",
    " - The language design was focussed more towards writing \"readable\" and maintainable code.\n",
    "  "
   ]
  },
  {
   "cell_type": "markdown",
   "id": "4cd470a3",
   "metadata": {},
   "source": [
    "NOTE: About Parse-time errors and run-time errors\n",
    "\n",
    "SyntaxError, IndentationError and TabError might occur while compiling or parsing the python source code.\n",
    "\n",
    "However, NameError, TypeError, ValueError and many other Errors are errors that occur during execution -> runtime errors.\n"
   ]
  },
  {
   "cell_type": "markdown",
   "id": "3b1b829b",
   "metadata": {},
   "source": [
    "### Python statements and expressions\n",
    " \n",
    " - Simple statements\n",
    "   Simple statements by default end with a newline. But you can sometimes have multiple simple statements in a single line separated by \\;\n",
    "\n",
    "   - Assignments\n",
    "   - Expressions (includes function calls)\n",
    "   - Import statements (```import```, ```from``` ... ```import```)\n",
    "   - Raising exceptions and Assertions (```raise```, ```assert```)\n",
    "   - Flow control statements (break, continue)\n",
    "   - The ```nonlocal``` and ```global``` qualifiers within functions\n",
    "   - The ```return``` and ```yield``` within functions\n",
    "   \n",
    " - Compound statements\n"
   ]
  },
  {
   "cell_type": "code",
   "execution_count": 4,
   "id": "86142923",
   "metadata": {},
   "outputs": [
    {
     "name": "stdout",
     "output_type": "stream",
     "text": [
      "Hello world\n",
      "Another line\n"
     ]
    }
   ],
   "source": [
    "print(\"Hello world\")\n",
    "print(\"Another line\")\n"
   ]
  },
  {
   "cell_type": "code",
   "execution_count": 5,
   "id": "4f292e49",
   "metadata": {},
   "outputs": [
    {
     "name": "stdout",
     "output_type": "stream",
     "text": [
      "Hello world\n",
      "Another line\n"
     ]
    }
   ],
   "source": [
    "print(\"Hello world\") ; print(\"Another line\")\n"
   ]
  },
  {
   "cell_type": "markdown",
   "id": "0d727c27",
   "metadata": {},
   "source": [
    "### Assignments"
   ]
  },
  {
   "cell_type": "code",
   "execution_count": null,
   "id": "bb55cc1d",
   "metadata": {},
   "outputs": [
    {
     "name": "stdout",
     "output_type": "stream",
     "text": [
      "100\n"
     ]
    }
   ],
   "source": [
    "a = 100       # simple assignment\n",
    "b = \"hello\"   # another example of a simple assignment\n",
    "\n",
    "print(a)"
   ]
  },
  {
   "cell_type": "code",
   "execution_count": null,
   "id": "09eb6cc5",
   "metadata": {},
   "outputs": [
    {
     "name": "stdout",
     "output_type": "stream",
     "text": [
      "12345 12345\n"
     ]
    }
   ],
   "source": [
    "a = 12345\n",
    "b = a\n",
    "print(a, b) # How many objects are created ? Ans: 1\n",
    "\n",
    "# NOTE: All assignments in Python copy \"references\", not the actual objects "
   ]
  },
  {
   "cell_type": "code",
   "execution_count": 8,
   "id": "026dec21",
   "metadata": {},
   "outputs": [
    {
     "name": "stdout",
     "output_type": "stream",
     "text": [
      "101 100\n"
     ]
    }
   ],
   "source": [
    "a = 100\n",
    "b = a\n",
    "\n",
    "a += 1\n",
    "\n",
    "print(a, b)"
   ]
  },
  {
   "cell_type": "markdown",
   "id": "fda447d8",
   "metadata": {},
   "source": [
    "All numeric objects in Python are \"immutable\".\n",
    "\n",
    "Immutable objects in Python are objects that generally represent some sort of data and their notion of value cannot be altered.\n",
    "\n",
    "What are the benefits of having \"immutable\" objects in a programming language design ?\n",
    " - Their usage can be highly optimized in the language runtime.\n",
    " - They are by default \"concurrency-safe\"\n"
   ]
  },
  {
   "cell_type": "markdown",
   "id": "31c683ef",
   "metadata": {},
   "source": [
    "NOTE: \"types\" are not associated to variables / names in Python. Types are rather associated with objects. Therefore, it is okay to use statements like below:\n",
    "   a = 100      # 'a' is assigned to an integer\n",
    "   a = \"hello\"  # 'a' is now re-assigned to a string\n",
    "\n",
    "Python is \"dynamic\", but \"strongly\" typed language."
   ]
  },
  {
   "cell_type": "code",
   "execution_count": 11,
   "id": "80898c9b",
   "metadata": {},
   "outputs": [
    {
     "name": "stdout",
     "output_type": "stream",
     "text": [
      "[10, 20, 30] [10, 20, 30]\n",
      "[100, 20, 30] [100, 20, 30]\n"
     ]
    }
   ],
   "source": [
    "a = [10, 20, 30]\n",
    "\n",
    "b = a\n",
    "print(a, b)\n",
    "\n",
    "a[0] = 100\n",
    "print(a, b)\n"
   ]
  },
  {
   "cell_type": "code",
   "execution_count": 14,
   "id": "297f07d8",
   "metadata": {},
   "outputs": [
    {
     "name": "stdout",
     "output_type": "stream",
     "text": [
      "100 200\n",
      "<class 'int'> <class 'str'>\n"
     ]
    },
    {
     "ename": "TypeError",
     "evalue": "unsupported operand type(s) for +: 'int' and 'str'",
     "output_type": "error",
     "traceback": [
      "\u001b[31m---------------------------------------------------------------------------\u001b[39m",
      "\u001b[31mTypeError\u001b[39m                                 Traceback (most recent call last)",
      "\u001b[36mCell\u001b[39m\u001b[36m \u001b[39m\u001b[32mIn[14]\u001b[39m\u001b[32m, line 6\u001b[39m\n\u001b[32m      3\u001b[39m \u001b[38;5;28mprint\u001b[39m(a, b)\n\u001b[32m      4\u001b[39m \u001b[38;5;28mprint\u001b[39m(\u001b[38;5;28mtype\u001b[39m(a), \u001b[38;5;28mtype\u001b[39m(b))\n\u001b[32m----> \u001b[39m\u001b[32m6\u001b[39m c = \u001b[43ma\u001b[49m\u001b[43m \u001b[49m\u001b[43m+\u001b[49m\u001b[43m \u001b[49m\u001b[43mb\u001b[49m\n\u001b[32m      7\u001b[39m \u001b[38;5;28mprint\u001b[39m(c)\n",
      "\u001b[31mTypeError\u001b[39m: unsupported operand type(s) for +: 'int' and 'str'"
     ]
    }
   ],
   "source": [
    "a = 100\n",
    "b = \"200\"\n",
    "print(a, b)\n",
    "print(type(a), type(b))\n",
    "\n",
    "c = a + b\n",
    "print(c)\n"
   ]
  },
  {
   "cell_type": "code",
   "execution_count": 22,
   "id": "26e2b691",
   "metadata": {},
   "outputs": [
    {
     "name": "stdout",
     "output_type": "stream",
     "text": [
      "(10, 'hello', 30.5) <class 'tuple'>\n",
      "('John Doe', 'Seattle', 67)\n",
      "('John Doe', 'Seattle', 67)\n",
      "John Doe\n"
     ]
    },
    {
     "ename": "TypeError",
     "evalue": "'tuple' object does not support item assignment",
     "output_type": "error",
     "traceback": [
      "\u001b[31m---------------------------------------------------------------------------\u001b[39m",
      "\u001b[31mTypeError\u001b[39m                                 Traceback (most recent call last)",
      "\u001b[36mCell\u001b[39m\u001b[36m \u001b[39m\u001b[32mIn[22]\u001b[39m\u001b[32m, line 12\u001b[39m\n\u001b[32m     10\u001b[39m \u001b[38;5;28mprint\u001b[39m(info)\n\u001b[32m     11\u001b[39m \u001b[38;5;28mprint\u001b[39m(info[\u001b[32m0\u001b[39m])\n\u001b[32m---> \u001b[39m\u001b[32m12\u001b[39m \u001b[43minfo\u001b[49m\u001b[43m[\u001b[49m\u001b[32;43m0\u001b[39;49m\u001b[43m]\u001b[49m = \u001b[33m\"\u001b[39m\u001b[33mAdrian Smith\u001b[39m\u001b[33m\"\u001b[39m\n",
      "\u001b[31mTypeError\u001b[39m: 'tuple' object does not support item assignment"
     ]
    }
   ],
   "source": [
    "# Tuple packing (assignment)\n",
    "a = 10, \"hello\", 30.5\n",
    "print(a, type(a))\n",
    "\n",
    "info = \"John Doe\", \"Seattle\", 67\n",
    "print(info)\n",
    "\n",
    "# Tuple is an \"immutable\" sequence of arbitrary objects.\n",
    "# Sequences are \"ordered\" collection of items.\n",
    "print(info)\n",
    "print(info[0])\n",
    "info[0] = \"Adrian Smith\""
   ]
  },
  {
   "cell_type": "code",
   "execution_count": null,
   "id": "22688994",
   "metadata": {},
   "outputs": [
    {
     "name": "stdout",
     "output_type": "stream",
     "text": [
      "(10, 20, 30) <class 'tuple'>\n",
      "10 20 30\n"
     ]
    }
   ],
   "source": [
    "a = 10, 20, 30\n",
    "print(a, type(a))\n",
    "\n",
    "# Tuple unpacking (assignment)\n",
    "b, c, d = a\n",
    "print(b, c, d)\n",
    "\n",
    "# If the RHS of an assignment is a collection of some form, then if LHS can\n",
    "# have comma separated names matching the number items in the collection.\n"
   ]
  },
  {
   "cell_type": "code",
   "execution_count": 25,
   "id": "a520b8c3",
   "metadata": {},
   "outputs": [
    {
     "name": "stdout",
     "output_type": "stream",
     "text": [
      "100 100 100\n"
     ]
    }
   ],
   "source": [
    "# Assignment chainloading\n",
    "a = b = c = 100\n",
    "print(a, b, c)"
   ]
  },
  {
   "cell_type": "markdown",
   "id": "c6222699",
   "metadata": {},
   "source": [
    "Expression in Python can be one of the following:\n",
    "   - Arithmetic expressions (+, -, *, / ...)\n",
    "   - Function calls / method calls (print(), type())\n",
    "   - Boolean expressions ( ==, !=, <, >, ...)"
   ]
  },
  {
   "cell_type": "markdown",
   "id": "337e792d",
   "metadata": {},
   "source": [
    "NOTE: In Python, statements are not treated as expressions!\n"
   ]
  },
  {
   "cell_type": "code",
   "execution_count": 26,
   "id": "7e331102",
   "metadata": {},
   "outputs": [
    {
     "ename": "SyntaxError",
     "evalue": "invalid syntax (2777644652.py, line 2)",
     "output_type": "error",
     "traceback": [
      "  \u001b[36mCell\u001b[39m\u001b[36m \u001b[39m\u001b[32mIn[26]\u001b[39m\u001b[32m, line 2\u001b[39m\n\u001b[31m    \u001b[39m\u001b[31ma++\u001b[39m\n       ^\n\u001b[31mSyntaxError\u001b[39m\u001b[31m:\u001b[39m invalid syntax\n"
     ]
    }
   ],
   "source": [
    "a = 10\n",
    "a++"
   ]
  },
  {
   "cell_type": "code",
   "execution_count": null,
   "id": "3d4167aa",
   "metadata": {},
   "outputs": [],
   "source": [
    "a = 10\n",
    "a += 1  # a = a + 1"
   ]
  },
  {
   "cell_type": "code",
   "execution_count": null,
   "id": "2878dd3c",
   "metadata": {},
   "outputs": [
    {
     "ename": "SyntaxError",
     "evalue": "invalid syntax (3397350837.py, line 3)",
     "output_type": "error",
     "traceback": [
      "  \u001b[36mCell\u001b[39m\u001b[36m \u001b[39m\u001b[32mIn[27]\u001b[39m\u001b[32m, line 3\u001b[39m\n\u001b[31m    \u001b[39m\u001b[31mb = a += 1\u001b[39m\n          ^\n\u001b[31mSyntaxError\u001b[39m\u001b[31m:\u001b[39m invalid syntax\n"
     ]
    }
   ],
   "source": [
    "a = 10\n",
    "b = 20\n",
    "b = a += 1 # Statement was used in place of an expression.\n",
    "print(a, b)"
   ]
  },
  {
   "cell_type": "markdown",
   "id": "04cfbced",
   "metadata": {},
   "source": [
    "#### In a C program:\n",
    "```\n",
    "#include <stdio.h>\n",
    "int main()\n",
    "{\n",
    "    int ch;\n",
    "    while ((ch = getchar()) != EOF) {\n",
    "        putchar(ch)\n",
    "    }\n",
    "}\n",
    "```\n",
    "There was no equivalent of this code in Python (statement usage as expression in a while loop)"
   ]
  },
  {
   "cell_type": "code",
   "execution_count": null,
   "id": "7ac7e300",
   "metadata": {},
   "outputs": [
    {
     "ename": "SyntaxError",
     "evalue": "invalid syntax. Maybe you meant '==' or ':=' instead of '='? (2103341642.py, line 1)",
     "output_type": "error",
     "traceback": [
      "  \u001b[36mCell\u001b[39m\u001b[36m \u001b[39m\u001b[32mIn[28]\u001b[39m\u001b[32m, line 1\u001b[39m\n\u001b[31m    \u001b[39m\u001b[31mwhile (line = input(\"Enter a string (or end to finish)\")) != \"end\":\u001b[39m\n           ^\n\u001b[31mSyntaxError\u001b[39m\u001b[31m:\u001b[39m invalid syntax. Maybe you meant '==' or ':=' instead of '='?\n"
     ]
    }
   ],
   "source": [
    "while (line = input(\"Enter a string: \")) != \"end\":\n",
    "    print(\"line was\", line)"
   ]
  },
  {
   "cell_type": "code",
   "execution_count": null,
   "id": "2da7ba59",
   "metadata": {},
   "outputs": [
    {
     "name": "stdout",
     "output_type": "stream",
     "text": [
      "line was dfsdsf\n",
      "line was werewre\n",
      "line was dfgdfg\n",
      "line was ertert\n",
      "line was dfgdfg\n",
      "line was ertert\n"
     ]
    }
   ],
   "source": [
    "\n",
    "while True:\n",
    "    line = input(\"Enter something: \")\n",
    "    if line == \"end\":\n",
    "        break\n",
    "    print(\"line was\", line)"
   ]
  },
  {
   "cell_type": "code",
   "execution_count": null,
   "id": "708ded79",
   "metadata": {},
   "outputs": [
    {
     "name": "stdout",
     "output_type": "stream",
     "text": [
      "line was dfsdsf\n",
      "line was werewre\n",
      "line was dfgdfg\n",
      "line was ertert\n",
      "line was dfgdfg\n",
      "line was ertert\n"
     ]
    }
   ],
   "source": [
    "# Walrus assignments (available from Python 3.8 onwards)\n",
    "# Allows a form of assignment to be used as a part of an expression.\n",
    "\n",
    "while (line := input(\"Enter something: \")) != \"end\":\n",
    "    print(\"line was\", line)"
   ]
  },
  {
   "cell_type": "code",
   "execution_count": 30,
   "id": "3e8e59d3",
   "metadata": {},
   "outputs": [],
   "source": [
    "#### Augmented assignments\n",
    "a = 10\n",
    "a += 1 # Augmenting the + operator -> a = a + 1\n",
    "a -= 5 # a = a - 5\n",
    "a *= 2 # a = a * 2"
   ]
  },
  {
   "cell_type": "code",
   "execution_count": 32,
   "id": "11dbeb38",
   "metadata": {},
   "outputs": [
    {
     "ename": "ValueError",
     "evalue": "too many values to unpack (expected 2)",
     "output_type": "error",
     "traceback": [
      "\u001b[31m---------------------------------------------------------------------------\u001b[39m",
      "\u001b[31mValueError\u001b[39m                                Traceback (most recent call last)",
      "\u001b[36mCell\u001b[39m\u001b[36m \u001b[39m\u001b[32mIn[32]\u001b[39m\u001b[32m, line 3\u001b[39m\n\u001b[32m      1\u001b[39m a = \u001b[32m10\u001b[39m, \u001b[32m20\u001b[39m, \u001b[32m30\u001b[39m\n\u001b[32m----> \u001b[39m\u001b[32m3\u001b[39m b, c = a\n\u001b[32m      4\u001b[39m \u001b[38;5;28mprint\u001b[39m(b, c)\n",
      "\u001b[31mValueError\u001b[39m: too many values to unpack (expected 2)"
     ]
    }
   ],
   "source": [
    "a = 10, 20, 30\n",
    "\n",
    "b, c = a\n",
    "print(b, c)\n"
   ]
  },
  {
   "cell_type": "code",
   "execution_count": null,
   "id": "ff2ae160",
   "metadata": {},
   "outputs": [
    {
     "ename": "ValueError",
     "evalue": "too many values to unpack (expected 2)",
     "output_type": "error",
     "traceback": [
      "\u001b[31m---------------------------------------------------------------------------\u001b[39m",
      "\u001b[31mValueError\u001b[39m                                Traceback (most recent call last)",
      "\u001b[36mCell\u001b[39m\u001b[36m \u001b[39m\u001b[32mIn[33]\u001b[39m\u001b[32m, line 3\u001b[39m\n\u001b[32m      1\u001b[39m a = \u001b[32m10\u001b[39m, \u001b[32m20\u001b[39m, \u001b[32m30\u001b[39m, \u001b[32m40\u001b[39m\n\u001b[32m----> \u001b[39m\u001b[32m3\u001b[39m b, c = a\n",
      "\u001b[31mValueError\u001b[39m: too many values to unpack (expected 2)"
     ]
    }
   ],
   "source": [
    "a = 10, 20, 30, 40\n",
    "\n",
    "b, c = a  # Quick offline exploration: find out a means to make this work!\n"
   ]
  },
  {
   "cell_type": "code",
   "execution_count": 34,
   "id": "a5a5c77c",
   "metadata": {},
   "outputs": [
    {
     "name": "stdout",
     "output_type": "stream",
     "text": [
      "10 20\n",
      "20 10\n"
     ]
    }
   ],
   "source": [
    "### Parallel assignment\n",
    "\n",
    "a, b = 10, 20\n",
    "print(a, b)\n",
    "\n",
    "a, b = b, a\n",
    "print(a, b)"
   ]
  },
  {
   "cell_type": "code",
   "execution_count": 39,
   "id": "b3ace637",
   "metadata": {},
   "outputs": [
    {
     "data": {
      "text/plain": [
       "2.5"
      ]
     },
     "execution_count": 39,
     "metadata": {},
     "output_type": "execute_result"
    }
   ],
   "source": [
    "5 / 2"
   ]
  },
  {
   "cell_type": "code",
   "execution_count": null,
   "id": "c4e1d860",
   "metadata": {},
   "outputs": [
    {
     "data": {
      "text/plain": [
       "10.0"
      ]
     },
     "execution_count": 40,
     "metadata": {},
     "output_type": "execute_result"
    }
   ],
   "source": [
    "20 / 2  # truediv -> always returns a float"
   ]
  },
  {
   "cell_type": "code",
   "execution_count": null,
   "id": "e78d01a5",
   "metadata": {},
   "outputs": [
    {
     "data": {
      "text/plain": [
       "10"
      ]
     },
     "execution_count": 41,
     "metadata": {},
     "output_type": "execute_result"
    }
   ],
   "source": [
    "20 // 2  # floordiv"
   ]
  },
  {
   "cell_type": "code",
   "execution_count": 42,
   "id": "3cfdf95f",
   "metadata": {},
   "outputs": [
    {
     "data": {
      "text/plain": [
       "32"
      ]
     },
     "execution_count": 42,
     "metadata": {},
     "output_type": "execute_result"
    }
   ],
   "source": [
    "2 ** 5  # power-of operator"
   ]
  },
  {
   "cell_type": "code",
   "execution_count": 43,
   "id": "97e26589",
   "metadata": {},
   "outputs": [
    {
     "data": {
      "text/plain": [
       "1.4142135623730951"
      ]
     },
     "execution_count": 43,
     "metadata": {},
     "output_type": "execute_result"
    }
   ],
   "source": [
    "import math\n",
    "math.sqrt(2)"
   ]
  },
  {
   "cell_type": "code",
   "execution_count": 44,
   "id": "50ad3184",
   "metadata": {},
   "outputs": [
    {
     "data": {
      "text/plain": [
       "1.4142135623730951"
      ]
     },
     "execution_count": 44,
     "metadata": {},
     "output_type": "execute_result"
    }
   ],
   "source": [
    "2 ** 0.5"
   ]
  },
  {
   "cell_type": "code",
   "execution_count": 48,
   "id": "49e4b944",
   "metadata": {},
   "outputs": [
    {
     "name": "stdout",
     "output_type": "stream",
     "text": [
      "0\n",
      "1\n",
      "2\n",
      "3\n",
      "4\n"
     ]
    }
   ],
   "source": [
    "x = 10\n",
    "for i in range(x // 2):\n",
    "    print(i)"
   ]
  },
  {
   "cell_type": "code",
   "execution_count": null,
   "id": "6379d437",
   "metadata": {},
   "outputs": [],
   "source": []
  },
  {
   "cell_type": "code",
   "execution_count": 49,
   "id": "778e7de2",
   "metadata": {},
   "outputs": [
    {
     "name": "stdout",
     "output_type": "stream",
     "text": [
      "True True False False\n"
     ]
    }
   ],
   "source": [
    "# Write a program to check if a given number is prime ?\n",
    "\n",
    "def isprime(n):\n",
    "    \"\"\"Returns True is n is prime, else False\"\"\"\n",
    "    for i in range(2, int(n ** 0.5)+1):\n",
    "        if n % i == 0:\n",
    "            return False\n",
    "    return True\n",
    "\n",
    "print(isprime(13), isprime(127), isprime(35), isprime(21))\n",
    "# True True False False\n"
   ]
  },
  {
   "cell_type": "markdown",
   "id": "8dd319b8",
   "metadata": {},
   "source": [
    "Exercise: https://tinyurl.com/findall-ex"
   ]
  },
  {
   "cell_type": "code",
   "execution_count": 64,
   "id": "b093e59e",
   "metadata": {},
   "outputs": [
    {
     "data": {
      "text/plain": [
       "[10, 27, 32, 46]"
      ]
     },
     "execution_count": 64,
     "metadata": {},
     "output_type": "execute_result"
    }
   ],
   "source": [
    "# %load https://tinyurl.com/findall-ex\n",
    "\"\"\"\n",
    "Implement the findall() function below that should return\n",
    "a list of indices all occurrence of a substring found in \n",
    "a string (both passed as arguments to the function).\n",
    "\n",
    "Example usage:\n",
    "--------------\n",
    "   >>> quote = '''\n",
    "   ... When I see a bird\n",
    "   ... that walks like a duck\n",
    "   ... and swims like a duck\n",
    "   ... and quacks like a duck,\n",
    "   ... I call that bird a duck\n",
    "   ... '''\n",
    "\n",
    "   >>> findall(quote, \"duck\")\n",
    "   [37, 59, 82, 107]\n",
    "\n",
    "\"\"\"\n",
    "\n",
    "def findall(main_string, sub_string):\n",
    "    \"\"\"\n",
    "    Returns a list of indices of each occurrence of\n",
    "    sub_string in main_string\n",
    "\n",
    "    Example usage:\n",
    "    --------------\n",
    "        >>> poem = '''\n",
    "        ... A fly and flea flew into a flue,\n",
    "        ... said the fly to the flea 'what shall we do ?'\n",
    "        ... 'let us fly' said the flea\n",
    "        ... and said the fly 'let us flee'\n",
    "        ... and so they flew through a flaw in the the flue.\n",
    "        ... '''\n",
    "\n",
    "        >>> findall(poem, 'fly')\n",
    "        [3, 43, 88, 120]\n",
    "\n",
    "    \"\"\"\n",
    "    indices = []\n",
    "    index = 0\n",
    "    skip = len(sub_string)\n",
    "    while True:\n",
    "        index = main_string.find(sub_string, index)\n",
    "        if index == -1:\n",
    "            break\n",
    "        indices.append(index)\n",
    "        index += skip\n",
    "    return indices\n",
    "\n",
    "\n",
    "a = \"this is a test string with test test repeated test times\"\n",
    "findall(a, \"test\")\n",
    "\n"
   ]
  },
  {
   "cell_type": "code",
   "execution_count": null,
   "id": "9e66c82d",
   "metadata": {},
   "outputs": [
    {
     "data": {
      "text/plain": [
       "[10, 27, 32, 46]"
      ]
     },
     "metadata": {},
     "output_type": "display_data"
    }
   ],
   "source": [
    "# %load https://tinyurl.com/findall-ex\n",
    "\"\"\"\n",
    "Implement the findall() function below that should return\n",
    "a list of indices all occurrence of a substring found in \n",
    "a string (both passed as arguments to the function).\n",
    "\n",
    "Example usage:\n",
    "--------------\n",
    "   >>> quote = '''\n",
    "   ... When I see a bird\n",
    "   ... that walks like a duck\n",
    "   ... and swims like a duck\n",
    "   ... and quacks like a duck,\n",
    "   ... I call that bird a duck\n",
    "   ... '''\n",
    "\n",
    "   >>> findall(quote, \"duck\")\n",
    "   [37, 59, 82, 107]\n",
    "\n",
    "\"\"\"\n",
    "\n",
    "def findall(main_string, sub_string):\n",
    "    \"\"\"\n",
    "    Returns a list of indices of each occurrence of\n",
    "    sub_string in main_string\n",
    "\n",
    "    Example usage:\n",
    "    --------------\n",
    "        >>> poem = '''\n",
    "        ... A fly and flea flew into a flue,\n",
    "        ... said the fly to the flea 'what shall we do ?'\n",
    "        ... 'let us fly' said the flea\n",
    "        ... and said the fly 'let us flee'\n",
    "        ... and so they flew through a flaw in the the flue.\n",
    "        ... '''\n",
    "\n",
    "        >>> findall(poem, 'fly')\n",
    "        [3, 43, 88, 120]\n",
    "\n",
    "    \"\"\"\n",
    "    indices = []\n",
    "    index, skip = 0, len(sub_string)\n",
    "    while (index := main_string.find(sub_string, index)) != -1:\n",
    "        indices.append(index)\n",
    "        index += skip\n",
    "    return indices\n",
    "\n",
    "\n",
    "a = \"this is a test string with test test repeated test times\"\n",
    "findall(a, \"test\")\n",
    "\n"
   ]
  },
  {
   "cell_type": "code",
   "execution_count": 63,
   "id": "5f4ed1dc",
   "metadata": {},
   "outputs": [
    {
     "data": {
      "text/plain": [
       "-1"
      ]
     },
     "execution_count": 63,
     "metadata": {},
     "output_type": "execute_result"
    }
   ],
   "source": [
    "a = \"this is a test string with test test repeated test times\"\n",
    "a.find(\"test\", 50)"
   ]
  },
  {
   "cell_type": "code",
   "execution_count": null,
   "id": "1aa4e1a4",
   "metadata": {},
   "outputs": [
    {
     "name": "stdout",
     "output_type": "stream",
     "text": [
      "\u001b[31mDocstring:\u001b[39m\n",
      "S.find(sub[, start[, end]]) -> int\n",
      "\n",
      "Return the lowest index in S where substring sub is found,\n",
      "such that sub is contained within S[start:end].  Optional\n",
      "arguments start and end are interpreted as in slice notation.\n",
      "\n",
      "Return -1 on failure.\n",
      "\u001b[31mType:\u001b[39m      builtin_function_or_method"
     ]
    }
   ],
   "source": [
    "a.find()"
   ]
  },
  {
   "cell_type": "markdown",
   "id": "c2290600",
   "metadata": {},
   "source": [
    "NOTE: Use 'for' loop for \"deterministic\" iteration (i.e., the number of times - a block of statements to be executed is pre-determined).\n",
    "\n",
    "Use 'while' loop for \"non-deterministic\" iteration based on a condition.\n"
   ]
  },
  {
   "cell_type": "markdown",
   "id": "0ede2aec",
   "metadata": {},
   "source": [
    "### Python Classes, Objects and OOP"
   ]
  },
  {
   "cell_type": "markdown",
   "id": "b4a9c6bb",
   "metadata": {},
   "source": [
    "The significant benefit of OOP:\n",
    "  - \"Delegation of concerns\"\n",
    "\n",
    "The three pillars of OOP:\n",
    "  - is-A    (inheritance) - Generalization\n",
    "  - has-A   (composition) - Reusability\n",
    "  - uses-A  (contract/interface, abstraction, encapsulation)\n",
    "   "
   ]
  },
  {
   "cell_type": "markdown",
   "id": "c9b6a160",
   "metadata": {},
   "source": [
    "Generalization is used to \"standardize\" the interface to an object, while allowing alternative implementations."
   ]
  },
  {
   "cell_type": "markdown",
   "id": "106b093e",
   "metadata": {},
   "source": [
    "Python Coding Guidelines: https://peps.python.org/pep-0008/"
   ]
  },
  {
   "cell_type": "code",
   "execution_count": 67,
   "id": "48731530",
   "metadata": {},
   "outputs": [
    {
     "name": "stdout",
     "output_type": "stream",
     "text": [
      "<__main__.Car object at 0x107735460>\n",
      "<class '__main__.Car'>\n"
     ]
    }
   ],
   "source": [
    "class Car:  # Class definition\n",
    "    pass\n",
    "\n",
    "c = Car()   # Constructor expression\n",
    "print(c)\n",
    "print(Car)\n"
   ]
  },
  {
   "cell_type": "code",
   "execution_count": 68,
   "id": "6f07951e",
   "metadata": {},
   "outputs": [
    {
     "name": "stdout",
     "output_type": "stream",
     "text": [
      "<__main__.Car object at 0x107734080> <__main__.Car object at 0x107735cd0>\n"
     ]
    }
   ],
   "source": [
    "c1 = Car()\n",
    "c2 = Car()\n",
    "print(c1, c2)"
   ]
  },
  {
   "cell_type": "code",
   "execution_count": null,
   "id": "c636f952",
   "metadata": {},
   "outputs": [
    {
     "name": "stdout",
     "output_type": "stream",
     "text": [
      "Honda Toyota\n"
     ]
    }
   ],
   "source": [
    "c1.make = \"Honda\"   # Setting an attribute to an object (instance attributes)\n",
    "c2.make = \"Toyota\"  # Setting an attribute to an object \n",
    "\n",
    "print(c1.make, c2.make)"
   ]
  },
  {
   "cell_type": "code",
   "execution_count": 70,
   "id": "2d083ba6",
   "metadata": {},
   "outputs": [
    {
     "name": "stdout",
     "output_type": "stream",
     "text": [
      "1000000\n"
     ]
    }
   ],
   "source": [
    "Car.price = 1_000_000  # Setting a class-attribute\n",
    "\n",
    "print(Car.price)"
   ]
  },
  {
   "cell_type": "code",
   "execution_count": 72,
   "id": "71cb980d",
   "metadata": {},
   "outputs": [
    {
     "data": {
      "text/plain": [
       "1000000"
      ]
     },
     "execution_count": 72,
     "metadata": {},
     "output_type": "execute_result"
    }
   ],
   "source": [
    "c2.price"
   ]
  },
  {
   "cell_type": "code",
   "execution_count": null,
   "id": "3d629668",
   "metadata": {},
   "outputs": [],
   "source": [
    "class Person: pass\n",
    "\n",
    "p = Person()\n",
    "p.enam = \"John\""
   ]
  },
  {
   "cell_type": "code",
   "execution_count": 76,
   "id": "605a6352",
   "metadata": {},
   "outputs": [
    {
     "name": "stdout",
     "output_type": "stream",
     "text": [
      "Driving Honda\n",
      "Driving Toyota\n"
     ]
    },
    {
     "ename": "AttributeError",
     "evalue": "'Person' object has no attribute 'make'",
     "output_type": "error",
     "traceback": [
      "\u001b[31m---------------------------------------------------------------------------\u001b[39m",
      "\u001b[31mAttributeError\u001b[39m                            Traceback (most recent call last)",
      "\u001b[36mCell\u001b[39m\u001b[36m \u001b[39m\u001b[32mIn[76]\u001b[39m\u001b[32m, line 7\u001b[39m\n\u001b[32m      4\u001b[39m drive_car(c1)\n\u001b[32m      5\u001b[39m drive_car(c2)\n\u001b[32m----> \u001b[39m\u001b[32m7\u001b[39m \u001b[43mdrive_car\u001b[49m\u001b[43m(\u001b[49m\u001b[43mp\u001b[49m\u001b[43m)\u001b[49m\n",
      "\u001b[36mCell\u001b[39m\u001b[36m \u001b[39m\u001b[32mIn[76]\u001b[39m\u001b[32m, line 2\u001b[39m, in \u001b[36mdrive_car\u001b[39m\u001b[34m(c)\u001b[39m\n\u001b[32m      1\u001b[39m \u001b[38;5;28;01mdef\u001b[39;00m\u001b[38;5;250m \u001b[39m\u001b[34mdrive_car\u001b[39m(c):\n\u001b[32m----> \u001b[39m\u001b[32m2\u001b[39m     \u001b[38;5;28mprint\u001b[39m(\u001b[33m\"\u001b[39m\u001b[33mDriving\u001b[39m\u001b[33m\"\u001b[39m, \u001b[43mc\u001b[49m\u001b[43m.\u001b[49m\u001b[43mmake\u001b[49m)\n",
      "\u001b[31mAttributeError\u001b[39m: 'Person' object has no attribute 'make'"
     ]
    }
   ],
   "source": [
    "def drive_car(c):\n",
    "    print(\"Driving\", c.make)\n",
    "\n",
    "drive_car(c1)\n",
    "drive_car(c2)\n",
    "\n",
    "drive_car(p)\n"
   ]
  },
  {
   "cell_type": "code",
   "execution_count": 78,
   "id": "fa1a5c02",
   "metadata": {},
   "outputs": [
    {
     "data": {
      "text/plain": [
       "<function __main__.drive_car(c)>"
      ]
     },
     "execution_count": 78,
     "metadata": {},
     "output_type": "execute_result"
    }
   ],
   "source": [
    "drive_car"
   ]
  },
  {
   "cell_type": "code",
   "execution_count": null,
   "id": "91c99da8",
   "metadata": {},
   "outputs": [
    {
     "data": {
      "text/plain": [
       "<function __main__.drive_car(c)>"
      ]
     },
     "execution_count": 77,
     "metadata": {},
     "output_type": "execute_result"
    }
   ],
   "source": [
    "# When you assign a function as a class attribute, they are \n",
    "# transformed to \"instance methods\"\n",
    "\n",
    "Car.drive = drive_car\n",
    "\n",
    "Car.drive"
   ]
  },
  {
   "cell_type": "code",
   "execution_count": 80,
   "id": "ba0f6793",
   "metadata": {},
   "outputs": [
    {
     "name": "stdout",
     "output_type": "stream",
     "text": [
      "Driving Honda\n",
      "Driving Honda\n"
     ]
    }
   ],
   "source": [
    "drive_car(c1)\n",
    "Car.drive(c1)"
   ]
  },
  {
   "cell_type": "code",
   "execution_count": 84,
   "id": "3516e825",
   "metadata": {},
   "outputs": [
    {
     "data": {
      "text/plain": [
       "<function __main__.drive_car(c)>"
      ]
     },
     "execution_count": 84,
     "metadata": {},
     "output_type": "execute_result"
    }
   ],
   "source": [
    "Car.drive"
   ]
  },
  {
   "cell_type": "code",
   "execution_count": 83,
   "id": "11c73863",
   "metadata": {},
   "outputs": [
    {
     "data": {
      "text/plain": [
       "<bound method drive_car of <__main__.Car object at 0x107734080>>"
      ]
     },
     "execution_count": 83,
     "metadata": {},
     "output_type": "execute_result"
    }
   ],
   "source": [
    "c1.drive"
   ]
  },
  {
   "cell_type": "code",
   "execution_count": null,
   "id": "4a6e2c50",
   "metadata": {},
   "outputs": [
    {
     "name": "stdout",
     "output_type": "stream",
     "text": [
      "Driving Honda\n"
     ]
    }
   ],
   "source": [
    "c1.drive() # Car.drive(c1). # Instance method invocation\n"
   ]
  },
  {
   "cell_type": "code",
   "execution_count": 82,
   "id": "b7167251",
   "metadata": {},
   "outputs": [
    {
     "name": "stdout",
     "output_type": "stream",
     "text": [
      "9\n",
      "9\n"
     ]
    }
   ],
   "source": [
    "def square(x):\n",
    "    return x*x\n",
    "\n",
    "square(2)\n",
    "\n",
    "s = square\n",
    "print(square(3))\n",
    "print(s(3))\n"
   ]
  },
  {
   "cell_type": "code",
   "execution_count": null,
   "id": "7e518251",
   "metadata": {},
   "outputs": [
    {
     "name": "stdout",
     "output_type": "stream",
     "text": [
      "This is Car class, price = 1000000\n"
     ]
    },
    {
     "data": {
      "text/plain": [
       "1000000"
      ]
     },
     "execution_count": 88,
     "metadata": {},
     "output_type": "execute_result"
    }
   ],
   "source": [
    "class Car:\n",
    "    price = 1_000_000  # This is a class attribute\n",
    "    print(\"This is Car class, price =\", price)\n",
    "\n",
    "Car.price"
   ]
  },
  {
   "cell_type": "code",
   "execution_count": 91,
   "id": "66c87670",
   "metadata": {},
   "outputs": [
    {
     "ename": "AttributeError",
     "evalue": "'Car' object has no attribute 'make'",
     "output_type": "error",
     "traceback": [
      "\u001b[31m---------------------------------------------------------------------------\u001b[39m",
      "\u001b[31mAttributeError\u001b[39m                            Traceback (most recent call last)",
      "\u001b[36mCell\u001b[39m\u001b[36m \u001b[39m\u001b[32mIn[91]\u001b[39m\u001b[32m, line 9\u001b[39m\n\u001b[32m      7\u001b[39m c1 = Car()\n\u001b[32m      8\u001b[39m \u001b[38;5;66;03m#c1.make = \"Maruti\"\u001b[39;00m\n\u001b[32m----> \u001b[39m\u001b[32m9\u001b[39m \u001b[43mc1\u001b[49m\u001b[43m.\u001b[49m\u001b[43mdrive\u001b[49m\u001b[43m(\u001b[49m\u001b[43m)\u001b[49m \u001b[38;5;66;03m# Car.drive(c1)\u001b[39;00m\n",
      "\u001b[36mCell\u001b[39m\u001b[36m \u001b[39m\u001b[32mIn[91]\u001b[39m\u001b[32m, line 5\u001b[39m, in \u001b[36mCar.drive\u001b[39m\u001b[34m(c)\u001b[39m\n\u001b[32m      4\u001b[39m \u001b[38;5;28;01mdef\u001b[39;00m\u001b[38;5;250m \u001b[39m\u001b[34mdrive\u001b[39m(c):\n\u001b[32m----> \u001b[39m\u001b[32m5\u001b[39m     \u001b[38;5;28mprint\u001b[39m(\u001b[33m\"\u001b[39m\u001b[33mDriving\u001b[39m\u001b[33m\"\u001b[39m, \u001b[43mc\u001b[49m\u001b[43m.\u001b[49m\u001b[43mmake\u001b[49m)\n",
      "\u001b[31mAttributeError\u001b[39m: 'Car' object has no attribute 'make'"
     ]
    }
   ],
   "source": [
    "class Car:\n",
    "    price = 1_000_000\n",
    "\n",
    "    def drive(c):\n",
    "        print(\"Driving\", c.make)\n",
    "\n",
    "c1 = Car()\n",
    "#c1.make = \"Maruti\"\n",
    "c1.drive() # Car.drive(c1)"
   ]
  },
  {
   "cell_type": "code",
   "execution_count": 99,
   "id": "b06be9b7",
   "metadata": {},
   "outputs": [
    {
     "name": "stdout",
     "output_type": "stream",
     "text": [
      "Driving Suzuki\n"
     ]
    }
   ],
   "source": [
    "class Car:\n",
    "    price = 1_000_000\n",
    "\n",
    "    def __init__(self):\n",
    "        self.make = \"Suzuki\"\n",
    "\n",
    "    def drive(self):\n",
    "        print(\"Driving\", self.make)\n",
    "\n",
    "c1 = Car()\n",
    "c1.drive() # Car.drive(c1)"
   ]
  },
  {
   "cell_type": "code",
   "execution_count": 98,
   "id": "fefa16ea",
   "metadata": {},
   "outputs": [
    {
     "name": "stdout",
     "output_type": "stream",
     "text": [
      "Person object self=<__main__.Person object at 0x107727da0> instantiated.\n"
     ]
    },
    {
     "data": {
      "text/plain": [
       "<__main__.Person at 0x107727da0>"
      ]
     },
     "execution_count": 98,
     "metadata": {},
     "output_type": "execute_result"
    }
   ],
   "source": [
    "class Person:\n",
    "    def __init__(self):\n",
    "        print(f\"Person object {self=} instantiated.\")\n",
    "\n",
    "p = Person()\n",
    "p"
   ]
  },
  {
   "cell_type": "code",
   "execution_count": null,
   "id": "e1ddd2f2",
   "metadata": {},
   "outputs": [
    {
     "name": "stdout",
     "output_type": "stream",
     "text": [
      "Driving Honda\n",
      "Driving Toyota\n"
     ]
    }
   ],
   "source": [
    "# The __init__() methods is automatically called during \n",
    "# instantiation of the object.\n",
    "\n",
    "class Car:\n",
    "    price = 1_000_000\n",
    "\n",
    "    def __init__(self, make):\n",
    "        self.make = make\n",
    "\n",
    "    def drive(self):\n",
    "        print(\"Driving\", self.make)\n",
    "\n",
    "c1 = Car(\"Honda\")\n",
    "c2 = Car(\"Toyota\")\n",
    "c1.drive() # Car.drive(c1)\n",
    "c2.drive()"
   ]
  },
  {
   "cell_type": "code",
   "execution_count": null,
   "id": "7db9fe0f",
   "metadata": {},
   "outputs": [],
   "source": []
  }
 ],
 "metadata": {
  "kernelspec": {
   "display_name": ".conda",
   "language": "python",
   "name": "python3"
  },
  "language_info": {
   "codemirror_mode": {
    "name": "ipython",
    "version": 3
   },
   "file_extension": ".py",
   "mimetype": "text/x-python",
   "name": "python",
   "nbconvert_exporter": "python",
   "pygments_lexer": "ipython3",
   "version": "3.12.11"
  }
 },
 "nbformat": 4,
 "nbformat_minor": 5
}
